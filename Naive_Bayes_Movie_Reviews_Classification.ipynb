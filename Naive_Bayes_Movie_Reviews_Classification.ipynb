{
  "nbformat": 4,
  "nbformat_minor": 0,
  "metadata": {
    "colab": {
      "provenance": []
    },
    "kernelspec": {
      "name": "python3",
      "display_name": "Python 3"
    },
    "language_info": {
      "name": "python"
    },
    "gpuClass": "standard",
    "accelerator": "GPU"
  },
  "cells": [
    {
      "cell_type": "markdown",
      "source": [
        "## Naive Bayes - Text Classification\n",
        "## Movie Reviews Classification\n",
        "  **Dataset contains Movie Reviews and labelled as either Positive Review or Negative Review**\n",
        "\n",
        "### Task:\n",
        "To create a Machine Learning Model that can predict whether a given review is Negative or Positive.\n",
        "\n",
        "### Steps followed:\n",
        "1. Dealing with NULL values and Rows having blank spaces\n",
        "2. Text Preprocessing\n",
        "3. Using **Naive Bayes** Machine Learning Algorithms \n",
        "4. Evaluating Metrics of those models"
      ],
      "metadata": {
        "id": "rfYPJBGdCXtO"
      }
    },
    {
      "cell_type": "code",
      "source": [
        "from google.colab import drive\n",
        "drive.mount('/content/drive')"
      ],
      "metadata": {
        "colab": {
          "base_uri": "https://localhost:8080/"
        },
        "id": "zHD_jDfgCko7",
        "outputId": "335b714a-8ea8-4d68-a268-83cd68291fb1"
      },
      "execution_count": 1,
      "outputs": [
        {
          "output_type": "stream",
          "name": "stdout",
          "text": [
            "Drive already mounted at /content/drive; to attempt to forcibly remount, call drive.mount(\"/content/drive\", force_remount=True).\n"
          ]
        }
      ]
    },
    {
      "cell_type": "code",
      "execution_count": 2,
      "metadata": {
        "id": "ouBYveGuCSy4"
      },
      "outputs": [],
      "source": [
        "import pandas as pd\n",
        "import numpy as np\n",
        "import seaborn as sns\n",
        "import matplotlib.pyplot as plt"
      ]
    },
    {
      "cell_type": "code",
      "source": [
        "import warnings\n",
        "warnings.filterwarnings('ignore')"
      ],
      "metadata": {
        "id": "wFc_ZXPgquwQ"
      },
      "execution_count": 3,
      "outputs": []
    },
    {
      "cell_type": "code",
      "source": [
        "df = pd.read_csv('/content/drive/MyDrive/UNZIP_FOR_NOTEBOOKS_FINAL (1)/DATA/moviereviews.csv')"
      ],
      "metadata": {
        "id": "Bi0je1zNDC1B"
      },
      "execution_count": 4,
      "outputs": []
    },
    {
      "cell_type": "code",
      "source": [
        "df"
      ],
      "metadata": {
        "colab": {
          "base_uri": "https://localhost:8080/",
          "height": 419
        },
        "id": "OyU2yV-QDYYB",
        "outputId": "a7d2494e-739a-4907-8ad7-ec0857ea064c"
      },
      "execution_count": 5,
      "outputs": [
        {
          "output_type": "execute_result",
          "data": {
            "text/plain": [
              "     label                                             review\n",
              "0      neg  how do films like mouse hunt get into theatres...\n",
              "1      neg  some talented actresses are blessed with a dem...\n",
              "2      pos  this has been an extraordinary year for austra...\n",
              "3      pos  according to hollywood movies made in last few...\n",
              "4      neg  my first press screening of 1998 and already i...\n",
              "...    ...                                                ...\n",
              "1995   pos  i like movies with albert brooks , and i reall...\n",
              "1996   pos  it might surprise some to know that joel and e...\n",
              "1997   pos  the verdict : spine-chilling drama from horror...\n",
              "1998   pos  i want to correct what i wrote in a former ret...\n",
              "1999   pos  a couple of months ago , when i first download...\n",
              "\n",
              "[2000 rows x 2 columns]"
            ],
            "text/html": [
              "\n",
              "  <div id=\"df-3575b753-380a-4159-aaae-94afb2d56e04\">\n",
              "    <div class=\"colab-df-container\">\n",
              "      <div>\n",
              "<style scoped>\n",
              "    .dataframe tbody tr th:only-of-type {\n",
              "        vertical-align: middle;\n",
              "    }\n",
              "\n",
              "    .dataframe tbody tr th {\n",
              "        vertical-align: top;\n",
              "    }\n",
              "\n",
              "    .dataframe thead th {\n",
              "        text-align: right;\n",
              "    }\n",
              "</style>\n",
              "<table border=\"1\" class=\"dataframe\">\n",
              "  <thead>\n",
              "    <tr style=\"text-align: right;\">\n",
              "      <th></th>\n",
              "      <th>label</th>\n",
              "      <th>review</th>\n",
              "    </tr>\n",
              "  </thead>\n",
              "  <tbody>\n",
              "    <tr>\n",
              "      <th>0</th>\n",
              "      <td>neg</td>\n",
              "      <td>how do films like mouse hunt get into theatres...</td>\n",
              "    </tr>\n",
              "    <tr>\n",
              "      <th>1</th>\n",
              "      <td>neg</td>\n",
              "      <td>some talented actresses are blessed with a dem...</td>\n",
              "    </tr>\n",
              "    <tr>\n",
              "      <th>2</th>\n",
              "      <td>pos</td>\n",
              "      <td>this has been an extraordinary year for austra...</td>\n",
              "    </tr>\n",
              "    <tr>\n",
              "      <th>3</th>\n",
              "      <td>pos</td>\n",
              "      <td>according to hollywood movies made in last few...</td>\n",
              "    </tr>\n",
              "    <tr>\n",
              "      <th>4</th>\n",
              "      <td>neg</td>\n",
              "      <td>my first press screening of 1998 and already i...</td>\n",
              "    </tr>\n",
              "    <tr>\n",
              "      <th>...</th>\n",
              "      <td>...</td>\n",
              "      <td>...</td>\n",
              "    </tr>\n",
              "    <tr>\n",
              "      <th>1995</th>\n",
              "      <td>pos</td>\n",
              "      <td>i like movies with albert brooks , and i reall...</td>\n",
              "    </tr>\n",
              "    <tr>\n",
              "      <th>1996</th>\n",
              "      <td>pos</td>\n",
              "      <td>it might surprise some to know that joel and e...</td>\n",
              "    </tr>\n",
              "    <tr>\n",
              "      <th>1997</th>\n",
              "      <td>pos</td>\n",
              "      <td>the verdict : spine-chilling drama from horror...</td>\n",
              "    </tr>\n",
              "    <tr>\n",
              "      <th>1998</th>\n",
              "      <td>pos</td>\n",
              "      <td>i want to correct what i wrote in a former ret...</td>\n",
              "    </tr>\n",
              "    <tr>\n",
              "      <th>1999</th>\n",
              "      <td>pos</td>\n",
              "      <td>a couple of months ago , when i first download...</td>\n",
              "    </tr>\n",
              "  </tbody>\n",
              "</table>\n",
              "<p>2000 rows × 2 columns</p>\n",
              "</div>\n",
              "      <button class=\"colab-df-convert\" onclick=\"convertToInteractive('df-3575b753-380a-4159-aaae-94afb2d56e04')\"\n",
              "              title=\"Convert this dataframe to an interactive table.\"\n",
              "              style=\"display:none;\">\n",
              "        \n",
              "  <svg xmlns=\"http://www.w3.org/2000/svg\" height=\"24px\"viewBox=\"0 0 24 24\"\n",
              "       width=\"24px\">\n",
              "    <path d=\"M0 0h24v24H0V0z\" fill=\"none\"/>\n",
              "    <path d=\"M18.56 5.44l.94 2.06.94-2.06 2.06-.94-2.06-.94-.94-2.06-.94 2.06-2.06.94zm-11 1L8.5 8.5l.94-2.06 2.06-.94-2.06-.94L8.5 2.5l-.94 2.06-2.06.94zm10 10l.94 2.06.94-2.06 2.06-.94-2.06-.94-.94-2.06-.94 2.06-2.06.94z\"/><path d=\"M17.41 7.96l-1.37-1.37c-.4-.4-.92-.59-1.43-.59-.52 0-1.04.2-1.43.59L10.3 9.45l-7.72 7.72c-.78.78-.78 2.05 0 2.83L4 21.41c.39.39.9.59 1.41.59.51 0 1.02-.2 1.41-.59l7.78-7.78 2.81-2.81c.8-.78.8-2.07 0-2.86zM5.41 20L4 18.59l7.72-7.72 1.47 1.35L5.41 20z\"/>\n",
              "  </svg>\n",
              "      </button>\n",
              "      \n",
              "  <style>\n",
              "    .colab-df-container {\n",
              "      display:flex;\n",
              "      flex-wrap:wrap;\n",
              "      gap: 12px;\n",
              "    }\n",
              "\n",
              "    .colab-df-convert {\n",
              "      background-color: #E8F0FE;\n",
              "      border: none;\n",
              "      border-radius: 50%;\n",
              "      cursor: pointer;\n",
              "      display: none;\n",
              "      fill: #1967D2;\n",
              "      height: 32px;\n",
              "      padding: 0 0 0 0;\n",
              "      width: 32px;\n",
              "    }\n",
              "\n",
              "    .colab-df-convert:hover {\n",
              "      background-color: #E2EBFA;\n",
              "      box-shadow: 0px 1px 2px rgba(60, 64, 67, 0.3), 0px 1px 3px 1px rgba(60, 64, 67, 0.15);\n",
              "      fill: #174EA6;\n",
              "    }\n",
              "\n",
              "    [theme=dark] .colab-df-convert {\n",
              "      background-color: #3B4455;\n",
              "      fill: #D2E3FC;\n",
              "    }\n",
              "\n",
              "    [theme=dark] .colab-df-convert:hover {\n",
              "      background-color: #434B5C;\n",
              "      box-shadow: 0px 1px 3px 1px rgba(0, 0, 0, 0.15);\n",
              "      filter: drop-shadow(0px 1px 2px rgba(0, 0, 0, 0.3));\n",
              "      fill: #FFFFFF;\n",
              "    }\n",
              "  </style>\n",
              "\n",
              "      <script>\n",
              "        const buttonEl =\n",
              "          document.querySelector('#df-3575b753-380a-4159-aaae-94afb2d56e04 button.colab-df-convert');\n",
              "        buttonEl.style.display =\n",
              "          google.colab.kernel.accessAllowed ? 'block' : 'none';\n",
              "\n",
              "        async function convertToInteractive(key) {\n",
              "          const element = document.querySelector('#df-3575b753-380a-4159-aaae-94afb2d56e04');\n",
              "          const dataTable =\n",
              "            await google.colab.kernel.invokeFunction('convertToInteractive',\n",
              "                                                     [key], {});\n",
              "          if (!dataTable) return;\n",
              "\n",
              "          const docLinkHtml = 'Like what you see? Visit the ' +\n",
              "            '<a target=\"_blank\" href=https://colab.research.google.com/notebooks/data_table.ipynb>data table notebook</a>'\n",
              "            + ' to learn more about interactive tables.';\n",
              "          element.innerHTML = '';\n",
              "          dataTable['output_type'] = 'display_data';\n",
              "          await google.colab.output.renderOutput(dataTable, element);\n",
              "          const docLink = document.createElement('div');\n",
              "          docLink.innerHTML = docLinkHtml;\n",
              "          element.appendChild(docLink);\n",
              "        }\n",
              "      </script>\n",
              "    </div>\n",
              "  </div>\n",
              "  "
            ]
          },
          "metadata": {},
          "execution_count": 5
        }
      ]
    },
    {
      "cell_type": "markdown",
      "source": [
        "#### Checking for Null values"
      ],
      "metadata": {
        "id": "Soz6cY9lEuzv"
      }
    },
    {
      "cell_type": "code",
      "source": [
        "df.isnull().sum()"
      ],
      "metadata": {
        "colab": {
          "base_uri": "https://localhost:8080/"
        },
        "id": "tWQK9LjxDZwA",
        "outputId": "77aae01f-4123-4660-8514-70291e3c0d15"
      },
      "execution_count": 6,
      "outputs": [
        {
          "output_type": "execute_result",
          "data": {
            "text/plain": [
              "label      0\n",
              "review    35\n",
              "dtype: int64"
            ]
          },
          "metadata": {},
          "execution_count": 6
        }
      ]
    },
    {
      "cell_type": "markdown",
      "source": [
        "There are 35 Null values in Review Column. \\\n",
        "Let's have a look on those records."
      ],
      "metadata": {
        "id": "PxQ0-zzdEbTa"
      }
    },
    {
      "cell_type": "code",
      "source": [
        "df[df['review'].isnull()]"
      ],
      "metadata": {
        "colab": {
          "base_uri": "https://localhost:8080/",
          "height": 1000
        },
        "id": "Wl8HmYuLEYvp",
        "outputId": "4ec10edc-7929-4d2d-fb65-33fcc99e9046"
      },
      "execution_count": 7,
      "outputs": [
        {
          "output_type": "execute_result",
          "data": {
            "text/plain": [
              "     label review\n",
              "140    pos    NaN\n",
              "208    pos    NaN\n",
              "270    neg    NaN\n",
              "334    neg    NaN\n",
              "448    neg    NaN\n",
              "522    neg    NaN\n",
              "606    pos    NaN\n",
              "696    neg    NaN\n",
              "728    pos    NaN\n",
              "738    neg    NaN\n",
              "744    pos    NaN\n",
              "786    pos    NaN\n",
              "820    pos    NaN\n",
              "866    neg    NaN\n",
              "986    neg    NaN\n",
              "1072   neg    NaN\n",
              "1156   pos    NaN\n",
              "1204   pos    NaN\n",
              "1260   neg    NaN\n",
              "1272   neg    NaN\n",
              "1294   neg    NaN\n",
              "1314   pos    NaN\n",
              "1330   neg    NaN\n",
              "1332   neg    NaN\n",
              "1426   pos    NaN\n",
              "1456   pos    NaN\n",
              "1486   pos    NaN\n",
              "1538   neg    NaN\n",
              "1568   neg    NaN\n",
              "1584   pos    NaN\n",
              "1588   pos    NaN\n",
              "1600   pos    NaN\n",
              "1662   pos    NaN\n",
              "1904   pos    NaN\n",
              "1908   neg    NaN"
            ],
            "text/html": [
              "\n",
              "  <div id=\"df-d2e2dd9f-9493-4d64-a5b2-51826de95f09\">\n",
              "    <div class=\"colab-df-container\">\n",
              "      <div>\n",
              "<style scoped>\n",
              "    .dataframe tbody tr th:only-of-type {\n",
              "        vertical-align: middle;\n",
              "    }\n",
              "\n",
              "    .dataframe tbody tr th {\n",
              "        vertical-align: top;\n",
              "    }\n",
              "\n",
              "    .dataframe thead th {\n",
              "        text-align: right;\n",
              "    }\n",
              "</style>\n",
              "<table border=\"1\" class=\"dataframe\">\n",
              "  <thead>\n",
              "    <tr style=\"text-align: right;\">\n",
              "      <th></th>\n",
              "      <th>label</th>\n",
              "      <th>review</th>\n",
              "    </tr>\n",
              "  </thead>\n",
              "  <tbody>\n",
              "    <tr>\n",
              "      <th>140</th>\n",
              "      <td>pos</td>\n",
              "      <td>NaN</td>\n",
              "    </tr>\n",
              "    <tr>\n",
              "      <th>208</th>\n",
              "      <td>pos</td>\n",
              "      <td>NaN</td>\n",
              "    </tr>\n",
              "    <tr>\n",
              "      <th>270</th>\n",
              "      <td>neg</td>\n",
              "      <td>NaN</td>\n",
              "    </tr>\n",
              "    <tr>\n",
              "      <th>334</th>\n",
              "      <td>neg</td>\n",
              "      <td>NaN</td>\n",
              "    </tr>\n",
              "    <tr>\n",
              "      <th>448</th>\n",
              "      <td>neg</td>\n",
              "      <td>NaN</td>\n",
              "    </tr>\n",
              "    <tr>\n",
              "      <th>522</th>\n",
              "      <td>neg</td>\n",
              "      <td>NaN</td>\n",
              "    </tr>\n",
              "    <tr>\n",
              "      <th>606</th>\n",
              "      <td>pos</td>\n",
              "      <td>NaN</td>\n",
              "    </tr>\n",
              "    <tr>\n",
              "      <th>696</th>\n",
              "      <td>neg</td>\n",
              "      <td>NaN</td>\n",
              "    </tr>\n",
              "    <tr>\n",
              "      <th>728</th>\n",
              "      <td>pos</td>\n",
              "      <td>NaN</td>\n",
              "    </tr>\n",
              "    <tr>\n",
              "      <th>738</th>\n",
              "      <td>neg</td>\n",
              "      <td>NaN</td>\n",
              "    </tr>\n",
              "    <tr>\n",
              "      <th>744</th>\n",
              "      <td>pos</td>\n",
              "      <td>NaN</td>\n",
              "    </tr>\n",
              "    <tr>\n",
              "      <th>786</th>\n",
              "      <td>pos</td>\n",
              "      <td>NaN</td>\n",
              "    </tr>\n",
              "    <tr>\n",
              "      <th>820</th>\n",
              "      <td>pos</td>\n",
              "      <td>NaN</td>\n",
              "    </tr>\n",
              "    <tr>\n",
              "      <th>866</th>\n",
              "      <td>neg</td>\n",
              "      <td>NaN</td>\n",
              "    </tr>\n",
              "    <tr>\n",
              "      <th>986</th>\n",
              "      <td>neg</td>\n",
              "      <td>NaN</td>\n",
              "    </tr>\n",
              "    <tr>\n",
              "      <th>1072</th>\n",
              "      <td>neg</td>\n",
              "      <td>NaN</td>\n",
              "    </tr>\n",
              "    <tr>\n",
              "      <th>1156</th>\n",
              "      <td>pos</td>\n",
              "      <td>NaN</td>\n",
              "    </tr>\n",
              "    <tr>\n",
              "      <th>1204</th>\n",
              "      <td>pos</td>\n",
              "      <td>NaN</td>\n",
              "    </tr>\n",
              "    <tr>\n",
              "      <th>1260</th>\n",
              "      <td>neg</td>\n",
              "      <td>NaN</td>\n",
              "    </tr>\n",
              "    <tr>\n",
              "      <th>1272</th>\n",
              "      <td>neg</td>\n",
              "      <td>NaN</td>\n",
              "    </tr>\n",
              "    <tr>\n",
              "      <th>1294</th>\n",
              "      <td>neg</td>\n",
              "      <td>NaN</td>\n",
              "    </tr>\n",
              "    <tr>\n",
              "      <th>1314</th>\n",
              "      <td>pos</td>\n",
              "      <td>NaN</td>\n",
              "    </tr>\n",
              "    <tr>\n",
              "      <th>1330</th>\n",
              "      <td>neg</td>\n",
              "      <td>NaN</td>\n",
              "    </tr>\n",
              "    <tr>\n",
              "      <th>1332</th>\n",
              "      <td>neg</td>\n",
              "      <td>NaN</td>\n",
              "    </tr>\n",
              "    <tr>\n",
              "      <th>1426</th>\n",
              "      <td>pos</td>\n",
              "      <td>NaN</td>\n",
              "    </tr>\n",
              "    <tr>\n",
              "      <th>1456</th>\n",
              "      <td>pos</td>\n",
              "      <td>NaN</td>\n",
              "    </tr>\n",
              "    <tr>\n",
              "      <th>1486</th>\n",
              "      <td>pos</td>\n",
              "      <td>NaN</td>\n",
              "    </tr>\n",
              "    <tr>\n",
              "      <th>1538</th>\n",
              "      <td>neg</td>\n",
              "      <td>NaN</td>\n",
              "    </tr>\n",
              "    <tr>\n",
              "      <th>1568</th>\n",
              "      <td>neg</td>\n",
              "      <td>NaN</td>\n",
              "    </tr>\n",
              "    <tr>\n",
              "      <th>1584</th>\n",
              "      <td>pos</td>\n",
              "      <td>NaN</td>\n",
              "    </tr>\n",
              "    <tr>\n",
              "      <th>1588</th>\n",
              "      <td>pos</td>\n",
              "      <td>NaN</td>\n",
              "    </tr>\n",
              "    <tr>\n",
              "      <th>1600</th>\n",
              "      <td>pos</td>\n",
              "      <td>NaN</td>\n",
              "    </tr>\n",
              "    <tr>\n",
              "      <th>1662</th>\n",
              "      <td>pos</td>\n",
              "      <td>NaN</td>\n",
              "    </tr>\n",
              "    <tr>\n",
              "      <th>1904</th>\n",
              "      <td>pos</td>\n",
              "      <td>NaN</td>\n",
              "    </tr>\n",
              "    <tr>\n",
              "      <th>1908</th>\n",
              "      <td>neg</td>\n",
              "      <td>NaN</td>\n",
              "    </tr>\n",
              "  </tbody>\n",
              "</table>\n",
              "</div>\n",
              "      <button class=\"colab-df-convert\" onclick=\"convertToInteractive('df-d2e2dd9f-9493-4d64-a5b2-51826de95f09')\"\n",
              "              title=\"Convert this dataframe to an interactive table.\"\n",
              "              style=\"display:none;\">\n",
              "        \n",
              "  <svg xmlns=\"http://www.w3.org/2000/svg\" height=\"24px\"viewBox=\"0 0 24 24\"\n",
              "       width=\"24px\">\n",
              "    <path d=\"M0 0h24v24H0V0z\" fill=\"none\"/>\n",
              "    <path d=\"M18.56 5.44l.94 2.06.94-2.06 2.06-.94-2.06-.94-.94-2.06-.94 2.06-2.06.94zm-11 1L8.5 8.5l.94-2.06 2.06-.94-2.06-.94L8.5 2.5l-.94 2.06-2.06.94zm10 10l.94 2.06.94-2.06 2.06-.94-2.06-.94-.94-2.06-.94 2.06-2.06.94z\"/><path d=\"M17.41 7.96l-1.37-1.37c-.4-.4-.92-.59-1.43-.59-.52 0-1.04.2-1.43.59L10.3 9.45l-7.72 7.72c-.78.78-.78 2.05 0 2.83L4 21.41c.39.39.9.59 1.41.59.51 0 1.02-.2 1.41-.59l7.78-7.78 2.81-2.81c.8-.78.8-2.07 0-2.86zM5.41 20L4 18.59l7.72-7.72 1.47 1.35L5.41 20z\"/>\n",
              "  </svg>\n",
              "      </button>\n",
              "      \n",
              "  <style>\n",
              "    .colab-df-container {\n",
              "      display:flex;\n",
              "      flex-wrap:wrap;\n",
              "      gap: 12px;\n",
              "    }\n",
              "\n",
              "    .colab-df-convert {\n",
              "      background-color: #E8F0FE;\n",
              "      border: none;\n",
              "      border-radius: 50%;\n",
              "      cursor: pointer;\n",
              "      display: none;\n",
              "      fill: #1967D2;\n",
              "      height: 32px;\n",
              "      padding: 0 0 0 0;\n",
              "      width: 32px;\n",
              "    }\n",
              "\n",
              "    .colab-df-convert:hover {\n",
              "      background-color: #E2EBFA;\n",
              "      box-shadow: 0px 1px 2px rgba(60, 64, 67, 0.3), 0px 1px 3px 1px rgba(60, 64, 67, 0.15);\n",
              "      fill: #174EA6;\n",
              "    }\n",
              "\n",
              "    [theme=dark] .colab-df-convert {\n",
              "      background-color: #3B4455;\n",
              "      fill: #D2E3FC;\n",
              "    }\n",
              "\n",
              "    [theme=dark] .colab-df-convert:hover {\n",
              "      background-color: #434B5C;\n",
              "      box-shadow: 0px 1px 3px 1px rgba(0, 0, 0, 0.15);\n",
              "      filter: drop-shadow(0px 1px 2px rgba(0, 0, 0, 0.3));\n",
              "      fill: #FFFFFF;\n",
              "    }\n",
              "  </style>\n",
              "\n",
              "      <script>\n",
              "        const buttonEl =\n",
              "          document.querySelector('#df-d2e2dd9f-9493-4d64-a5b2-51826de95f09 button.colab-df-convert');\n",
              "        buttonEl.style.display =\n",
              "          google.colab.kernel.accessAllowed ? 'block' : 'none';\n",
              "\n",
              "        async function convertToInteractive(key) {\n",
              "          const element = document.querySelector('#df-d2e2dd9f-9493-4d64-a5b2-51826de95f09');\n",
              "          const dataTable =\n",
              "            await google.colab.kernel.invokeFunction('convertToInteractive',\n",
              "                                                     [key], {});\n",
              "          if (!dataTable) return;\n",
              "\n",
              "          const docLinkHtml = 'Like what you see? Visit the ' +\n",
              "            '<a target=\"_blank\" href=https://colab.research.google.com/notebooks/data_table.ipynb>data table notebook</a>'\n",
              "            + ' to learn more about interactive tables.';\n",
              "          element.innerHTML = '';\n",
              "          dataTable['output_type'] = 'display_data';\n",
              "          await google.colab.output.renderOutput(dataTable, element);\n",
              "          const docLink = document.createElement('div');\n",
              "          docLink.innerHTML = docLinkHtml;\n",
              "          element.appendChild(docLink);\n",
              "        }\n",
              "      </script>\n",
              "    </div>\n",
              "  </div>\n",
              "  "
            ]
          },
          "metadata": {},
          "execution_count": 7
        }
      ]
    },
    {
      "cell_type": "code",
      "source": [
        "# DROPPING THOSE RECORDS\n",
        "df = df.dropna(axis=0)"
      ],
      "metadata": {
        "id": "ApPuK8vBElhf"
      },
      "execution_count": 8,
      "outputs": []
    },
    {
      "cell_type": "code",
      "source": [
        "df.shape"
      ],
      "metadata": {
        "colab": {
          "base_uri": "https://localhost:8080/"
        },
        "id": "iH-UmP9UFSA1",
        "outputId": "190ddbcb-24b8-4e84-ba83-ed32cad68546"
      },
      "execution_count": 9,
      "outputs": [
        {
          "output_type": "execute_result",
          "data": {
            "text/plain": [
              "(1965, 2)"
            ]
          },
          "metadata": {},
          "execution_count": 9
        }
      ]
    },
    {
      "cell_type": "markdown",
      "source": [
        "### Exploring Review Column"
      ],
      "metadata": {
        "id": "vjsPZFmQF373"
      }
    },
    {
      "cell_type": "code",
      "source": [
        "df['review'].sample(100)"
      ],
      "metadata": {
        "colab": {
          "base_uri": "https://localhost:8080/"
        },
        "id": "qpKxO1_JFktT",
        "outputId": "5750f5a4-a3ce-472b-97b7-0bfb39eff295"
      },
      "execution_count": 10,
      "outputs": [
        {
          "output_type": "execute_result",
          "data": {
            "text/plain": [
              "1621    weir is well-respected in hollywood for turnin...\n",
              "641     the last of vampire-films offers plenty of blo...\n",
              "566     the catch phrase for disney's rocket man is on...\n",
              "913     in the past , tim burton has taken cinema by s...\n",
              "451     mike myers , you certainly did throw us a ? fr...\n",
              "                              ...                        \n",
              "133     when a someone journeys to the theater to see ...\n",
              "788     when people are talking about good old times ,...\n",
              "1129    synopsis : sonny koufax ( adam sandler ) is a ...\n",
              "1565    everybody in this film's thinking of alicia . ...\n",
              "1830    the cartoon is way better . \\r\\nthat's the bot...\n",
              "Name: review, Length: 100, dtype: object"
            ]
          },
          "metadata": {},
          "execution_count": 10
        }
      ]
    },
    {
      "cell_type": "markdown",
      "source": [
        "**Checking whether Review Column contains any Blank spaces or not**"
      ],
      "metadata": {
        "id": "R-Sd8AwhJefQ"
      }
    },
    {
      "cell_type": "code",
      "source": [
        "sum(df['review'].str.isspace())"
      ],
      "metadata": {
        "colab": {
          "base_uri": "https://localhost:8080/"
        },
        "id": "2jk8kBxUIUAR",
        "outputId": "dfbffc74-0dd4-4718-984f-a96ed93b2c10"
      },
      "execution_count": 11,
      "outputs": [
        {
          "output_type": "execute_result",
          "data": {
            "text/plain": [
              "27"
            ]
          },
          "metadata": {},
          "execution_count": 11
        }
      ]
    },
    {
      "cell_type": "code",
      "source": [
        "blank_rows = df[df['review'].str.isspace()==True]\n",
        "blank_rows"
      ],
      "metadata": {
        "colab": {
          "base_uri": "https://localhost:8080/",
          "height": 886
        },
        "id": "KemzFm2OIfAk",
        "outputId": "000197a5-82a2-47ed-98ed-ea02f934719c"
      },
      "execution_count": 12,
      "outputs": [
        {
          "output_type": "execute_result",
          "data": {
            "text/plain": [
              "     label review\n",
              "57     neg       \n",
              "71     pos       \n",
              "147    pos       \n",
              "151    pos       \n",
              "283    pos       \n",
              "307    pos       \n",
              "313    neg       \n",
              "323    pos       \n",
              "343    pos       \n",
              "351    neg       \n",
              "427    pos       \n",
              "501    neg       \n",
              "633    pos       \n",
              "675    neg       \n",
              "815    neg       \n",
              "851    neg       \n",
              "977    neg       \n",
              "1079   neg       \n",
              "1299   pos       \n",
              "1455   neg       \n",
              "1493   pos       \n",
              "1525   neg       \n",
              "1531   neg       \n",
              "1763   neg       \n",
              "1851   neg       \n",
              "1905   pos       \n",
              "1993   pos       "
            ],
            "text/html": [
              "\n",
              "  <div id=\"df-66d1a228-5d3e-489f-a814-a9644af4f0bb\">\n",
              "    <div class=\"colab-df-container\">\n",
              "      <div>\n",
              "<style scoped>\n",
              "    .dataframe tbody tr th:only-of-type {\n",
              "        vertical-align: middle;\n",
              "    }\n",
              "\n",
              "    .dataframe tbody tr th {\n",
              "        vertical-align: top;\n",
              "    }\n",
              "\n",
              "    .dataframe thead th {\n",
              "        text-align: right;\n",
              "    }\n",
              "</style>\n",
              "<table border=\"1\" class=\"dataframe\">\n",
              "  <thead>\n",
              "    <tr style=\"text-align: right;\">\n",
              "      <th></th>\n",
              "      <th>label</th>\n",
              "      <th>review</th>\n",
              "    </tr>\n",
              "  </thead>\n",
              "  <tbody>\n",
              "    <tr>\n",
              "      <th>57</th>\n",
              "      <td>neg</td>\n",
              "      <td></td>\n",
              "    </tr>\n",
              "    <tr>\n",
              "      <th>71</th>\n",
              "      <td>pos</td>\n",
              "      <td></td>\n",
              "    </tr>\n",
              "    <tr>\n",
              "      <th>147</th>\n",
              "      <td>pos</td>\n",
              "      <td></td>\n",
              "    </tr>\n",
              "    <tr>\n",
              "      <th>151</th>\n",
              "      <td>pos</td>\n",
              "      <td></td>\n",
              "    </tr>\n",
              "    <tr>\n",
              "      <th>283</th>\n",
              "      <td>pos</td>\n",
              "      <td></td>\n",
              "    </tr>\n",
              "    <tr>\n",
              "      <th>307</th>\n",
              "      <td>pos</td>\n",
              "      <td></td>\n",
              "    </tr>\n",
              "    <tr>\n",
              "      <th>313</th>\n",
              "      <td>neg</td>\n",
              "      <td></td>\n",
              "    </tr>\n",
              "    <tr>\n",
              "      <th>323</th>\n",
              "      <td>pos</td>\n",
              "      <td></td>\n",
              "    </tr>\n",
              "    <tr>\n",
              "      <th>343</th>\n",
              "      <td>pos</td>\n",
              "      <td></td>\n",
              "    </tr>\n",
              "    <tr>\n",
              "      <th>351</th>\n",
              "      <td>neg</td>\n",
              "      <td></td>\n",
              "    </tr>\n",
              "    <tr>\n",
              "      <th>427</th>\n",
              "      <td>pos</td>\n",
              "      <td></td>\n",
              "    </tr>\n",
              "    <tr>\n",
              "      <th>501</th>\n",
              "      <td>neg</td>\n",
              "      <td></td>\n",
              "    </tr>\n",
              "    <tr>\n",
              "      <th>633</th>\n",
              "      <td>pos</td>\n",
              "      <td></td>\n",
              "    </tr>\n",
              "    <tr>\n",
              "      <th>675</th>\n",
              "      <td>neg</td>\n",
              "      <td></td>\n",
              "    </tr>\n",
              "    <tr>\n",
              "      <th>815</th>\n",
              "      <td>neg</td>\n",
              "      <td></td>\n",
              "    </tr>\n",
              "    <tr>\n",
              "      <th>851</th>\n",
              "      <td>neg</td>\n",
              "      <td></td>\n",
              "    </tr>\n",
              "    <tr>\n",
              "      <th>977</th>\n",
              "      <td>neg</td>\n",
              "      <td></td>\n",
              "    </tr>\n",
              "    <tr>\n",
              "      <th>1079</th>\n",
              "      <td>neg</td>\n",
              "      <td></td>\n",
              "    </tr>\n",
              "    <tr>\n",
              "      <th>1299</th>\n",
              "      <td>pos</td>\n",
              "      <td></td>\n",
              "    </tr>\n",
              "    <tr>\n",
              "      <th>1455</th>\n",
              "      <td>neg</td>\n",
              "      <td></td>\n",
              "    </tr>\n",
              "    <tr>\n",
              "      <th>1493</th>\n",
              "      <td>pos</td>\n",
              "      <td></td>\n",
              "    </tr>\n",
              "    <tr>\n",
              "      <th>1525</th>\n",
              "      <td>neg</td>\n",
              "      <td></td>\n",
              "    </tr>\n",
              "    <tr>\n",
              "      <th>1531</th>\n",
              "      <td>neg</td>\n",
              "      <td></td>\n",
              "    </tr>\n",
              "    <tr>\n",
              "      <th>1763</th>\n",
              "      <td>neg</td>\n",
              "      <td></td>\n",
              "    </tr>\n",
              "    <tr>\n",
              "      <th>1851</th>\n",
              "      <td>neg</td>\n",
              "      <td></td>\n",
              "    </tr>\n",
              "    <tr>\n",
              "      <th>1905</th>\n",
              "      <td>pos</td>\n",
              "      <td></td>\n",
              "    </tr>\n",
              "    <tr>\n",
              "      <th>1993</th>\n",
              "      <td>pos</td>\n",
              "      <td></td>\n",
              "    </tr>\n",
              "  </tbody>\n",
              "</table>\n",
              "</div>\n",
              "      <button class=\"colab-df-convert\" onclick=\"convertToInteractive('df-66d1a228-5d3e-489f-a814-a9644af4f0bb')\"\n",
              "              title=\"Convert this dataframe to an interactive table.\"\n",
              "              style=\"display:none;\">\n",
              "        \n",
              "  <svg xmlns=\"http://www.w3.org/2000/svg\" height=\"24px\"viewBox=\"0 0 24 24\"\n",
              "       width=\"24px\">\n",
              "    <path d=\"M0 0h24v24H0V0z\" fill=\"none\"/>\n",
              "    <path d=\"M18.56 5.44l.94 2.06.94-2.06 2.06-.94-2.06-.94-.94-2.06-.94 2.06-2.06.94zm-11 1L8.5 8.5l.94-2.06 2.06-.94-2.06-.94L8.5 2.5l-.94 2.06-2.06.94zm10 10l.94 2.06.94-2.06 2.06-.94-2.06-.94-.94-2.06-.94 2.06-2.06.94z\"/><path d=\"M17.41 7.96l-1.37-1.37c-.4-.4-.92-.59-1.43-.59-.52 0-1.04.2-1.43.59L10.3 9.45l-7.72 7.72c-.78.78-.78 2.05 0 2.83L4 21.41c.39.39.9.59 1.41.59.51 0 1.02-.2 1.41-.59l7.78-7.78 2.81-2.81c.8-.78.8-2.07 0-2.86zM5.41 20L4 18.59l7.72-7.72 1.47 1.35L5.41 20z\"/>\n",
              "  </svg>\n",
              "      </button>\n",
              "      \n",
              "  <style>\n",
              "    .colab-df-container {\n",
              "      display:flex;\n",
              "      flex-wrap:wrap;\n",
              "      gap: 12px;\n",
              "    }\n",
              "\n",
              "    .colab-df-convert {\n",
              "      background-color: #E8F0FE;\n",
              "      border: none;\n",
              "      border-radius: 50%;\n",
              "      cursor: pointer;\n",
              "      display: none;\n",
              "      fill: #1967D2;\n",
              "      height: 32px;\n",
              "      padding: 0 0 0 0;\n",
              "      width: 32px;\n",
              "    }\n",
              "\n",
              "    .colab-df-convert:hover {\n",
              "      background-color: #E2EBFA;\n",
              "      box-shadow: 0px 1px 2px rgba(60, 64, 67, 0.3), 0px 1px 3px 1px rgba(60, 64, 67, 0.15);\n",
              "      fill: #174EA6;\n",
              "    }\n",
              "\n",
              "    [theme=dark] .colab-df-convert {\n",
              "      background-color: #3B4455;\n",
              "      fill: #D2E3FC;\n",
              "    }\n",
              "\n",
              "    [theme=dark] .colab-df-convert:hover {\n",
              "      background-color: #434B5C;\n",
              "      box-shadow: 0px 1px 3px 1px rgba(0, 0, 0, 0.15);\n",
              "      filter: drop-shadow(0px 1px 2px rgba(0, 0, 0, 0.3));\n",
              "      fill: #FFFFFF;\n",
              "    }\n",
              "  </style>\n",
              "\n",
              "      <script>\n",
              "        const buttonEl =\n",
              "          document.querySelector('#df-66d1a228-5d3e-489f-a814-a9644af4f0bb button.colab-df-convert');\n",
              "        buttonEl.style.display =\n",
              "          google.colab.kernel.accessAllowed ? 'block' : 'none';\n",
              "\n",
              "        async function convertToInteractive(key) {\n",
              "          const element = document.querySelector('#df-66d1a228-5d3e-489f-a814-a9644af4f0bb');\n",
              "          const dataTable =\n",
              "            await google.colab.kernel.invokeFunction('convertToInteractive',\n",
              "                                                     [key], {});\n",
              "          if (!dataTable) return;\n",
              "\n",
              "          const docLinkHtml = 'Like what you see? Visit the ' +\n",
              "            '<a target=\"_blank\" href=https://colab.research.google.com/notebooks/data_table.ipynb>data table notebook</a>'\n",
              "            + ' to learn more about interactive tables.';\n",
              "          element.innerHTML = '';\n",
              "          dataTable['output_type'] = 'display_data';\n",
              "          await google.colab.output.renderOutput(dataTable, element);\n",
              "          const docLink = document.createElement('div');\n",
              "          docLink.innerHTML = docLinkHtml;\n",
              "          element.appendChild(docLink);\n",
              "        }\n",
              "      </script>\n",
              "    </div>\n",
              "  </div>\n",
              "  "
            ]
          },
          "metadata": {},
          "execution_count": 12
        }
      ]
    },
    {
      "cell_type": "markdown",
      "source": [
        "**Inference :** In above records,we can see the label as pos/neg but there is no Review. \\\n",
        "**Dropping those records.**\n"
      ],
      "metadata": {
        "id": "TJ53IzWeJ1J1"
      }
    },
    {
      "cell_type": "code",
      "source": [
        "blank_rows_index = blank_rows.index\n",
        "blank_rows_index"
      ],
      "metadata": {
        "colab": {
          "base_uri": "https://localhost:8080/"
        },
        "id": "G_RGVWwDJxjU",
        "outputId": "4e2709bf-400a-4d51-dc22-31c03cea53cf"
      },
      "execution_count": 13,
      "outputs": [
        {
          "output_type": "execute_result",
          "data": {
            "text/plain": [
              "Int64Index([  57,   71,  147,  151,  283,  307,  313,  323,  343,  351,  427,\n",
              "             501,  633,  675,  815,  851,  977, 1079, 1299, 1455, 1493, 1525,\n",
              "            1531, 1763, 1851, 1905, 1993],\n",
              "           dtype='int64')"
            ]
          },
          "metadata": {},
          "execution_count": 13
        }
      ]
    },
    {
      "cell_type": "code",
      "source": [
        "df = df.drop(index=blank_rows_index)"
      ],
      "metadata": {
        "id": "qqKMYutvKQL5"
      },
      "execution_count": 14,
      "outputs": []
    },
    {
      "cell_type": "code",
      "source": [
        "df.shape"
      ],
      "metadata": {
        "colab": {
          "base_uri": "https://localhost:8080/"
        },
        "id": "Qs_-jJEyKhzv",
        "outputId": "83d73192-7035-4033-d079-f23d09027ae0"
      },
      "execution_count": 15,
      "outputs": [
        {
          "output_type": "execute_result",
          "data": {
            "text/plain": [
              "(1938, 2)"
            ]
          },
          "metadata": {},
          "execution_count": 15
        }
      ]
    },
    {
      "cell_type": "markdown",
      "source": [
        "### Checking the Value Counts for Label Column"
      ],
      "metadata": {
        "id": "PBZjqGRxK7Cc"
      }
    },
    {
      "cell_type": "code",
      "source": [
        "df['label'].value_counts()"
      ],
      "metadata": {
        "colab": {
          "base_uri": "https://localhost:8080/"
        },
        "id": "sgcW0wJkKpyL",
        "outputId": "3ae3acfd-62a6-4fe6-9a23-f0e3022c1419"
      },
      "execution_count": 16,
      "outputs": [
        {
          "output_type": "execute_result",
          "data": {
            "text/plain": [
              "neg    969\n",
              "pos    969\n",
              "Name: label, dtype: int64"
            ]
          },
          "metadata": {},
          "execution_count": 16
        }
      ]
    },
    {
      "cell_type": "markdown",
      "source": [
        "**Dataset is balanced.**"
      ],
      "metadata": {
        "id": "ZF4Fw8xNLIrx"
      }
    },
    {
      "cell_type": "markdown",
      "source": [
        "## Text Preprocessing\n",
        "* **Removing HTML Tags**\n",
        "* **Removing Special Characters**\n",
        "* **Converting each letter to lower case**\n",
        "* **Removing Stop Words**\n",
        "* **Stemming**"
      ],
      "metadata": {
        "id": "7y9l_g_ggzLj"
      }
    },
    {
      "cell_type": "markdown",
      "source": [
        "### Removing HTML Tags"
      ],
      "metadata": {
        "id": "YqYQzLKahX3M"
      }
    },
    {
      "cell_type": "code",
      "source": [
        "import re"
      ],
      "metadata": {
        "id": "SThaVEubMTVF"
      },
      "execution_count": 17,
      "outputs": []
    },
    {
      "cell_type": "code",
      "source": [
        "def remove_html(text):\n",
        "  clean = re.compile('<.*?>')\n",
        "  return re.sub(clean,'',text)"
      ],
      "metadata": {
        "id": "-_heHApEMrGU"
      },
      "execution_count": 18,
      "outputs": []
    },
    {
      "cell_type": "code",
      "source": [
        "df['review'] = df['review'].apply(remove_html)"
      ],
      "metadata": {
        "id": "7S223DNthtkB"
      },
      "execution_count": 19,
      "outputs": []
    },
    {
      "cell_type": "markdown",
      "source": [
        "### Removing Special Characters"
      ],
      "metadata": {
        "id": "9q7V19g6izMA"
      }
    },
    {
      "cell_type": "code",
      "source": [
        "def remove_special(text):\n",
        "    modified_text = ''\n",
        "    for char in text:\n",
        "      if char.isalnum():\n",
        "        modified_text = modified_text + char\n",
        "      else:\n",
        "          modified_text = modified_text + ' '\n",
        "    return modified_text      "
      ],
      "metadata": {
        "id": "6KPU3BM3hxmF"
      },
      "execution_count": 20,
      "outputs": []
    },
    {
      "cell_type": "code",
      "source": [
        "df['review'] = df['review'].apply(remove_special)"
      ],
      "metadata": {
        "id": "96Nk-LBzjb_Y"
      },
      "execution_count": 21,
      "outputs": []
    },
    {
      "cell_type": "code",
      "source": [
        "df['review']"
      ],
      "metadata": {
        "colab": {
          "base_uri": "https://localhost:8080/"
        },
        "id": "OEySGHk6jfed",
        "outputId": "eb366c96-f13f-435b-cfc5-c529d74a6e71"
      },
      "execution_count": 22,
      "outputs": [
        {
          "output_type": "execute_result",
          "data": {
            "text/plain": [
              "0       how do films like mouse hunt get into theatres...\n",
              "1       some talented actresses are blessed with a dem...\n",
              "2       this has been an extraordinary year for austra...\n",
              "3       according to hollywood movies made in last few...\n",
              "4       my first press screening of 1998 and already i...\n",
              "                              ...                        \n",
              "1995    i like movies with albert brooks   and i reall...\n",
              "1996    it might surprise some to know that joel and e...\n",
              "1997    the verdict   spine chilling drama from horror...\n",
              "1998    i want to correct what i wrote in a former ret...\n",
              "1999    a couple of months ago   when i first download...\n",
              "Name: review, Length: 1938, dtype: object"
            ]
          },
          "metadata": {},
          "execution_count": 22
        }
      ]
    },
    {
      "cell_type": "markdown",
      "source": [
        "### Converting each letter into Lower Case"
      ],
      "metadata": {
        "id": "TDVKlBcxj77A"
      }
    },
    {
      "cell_type": "code",
      "source": [
        "df['review'] = df['review'].str.lower()"
      ],
      "metadata": {
        "id": "ccdZa9MbkA3Q"
      },
      "execution_count": 23,
      "outputs": []
    },
    {
      "cell_type": "markdown",
      "source": [
        "### Removing Stop Words"
      ],
      "metadata": {
        "id": "5-wZYXwFkTXy"
      }
    },
    {
      "cell_type": "markdown",
      "source": [
        "#### **Natural Language Toolkit**"
      ],
      "metadata": {
        "id": "M5YZPuw_k93C"
      }
    },
    {
      "cell_type": "code",
      "source": [
        "import nltk"
      ],
      "metadata": {
        "id": "JZAJcDVnkM9E"
      },
      "execution_count": 24,
      "outputs": []
    },
    {
      "cell_type": "code",
      "source": [
        "from nltk.corpus import stopwords"
      ],
      "metadata": {
        "id": "jxtFhxg1kZPA"
      },
      "execution_count": 25,
      "outputs": []
    },
    {
      "cell_type": "code",
      "source": [
        "# DOWNLOADING STOPWORDS FROM NLTK LIBRARY\n",
        "nltk.download('stopwords')"
      ],
      "metadata": {
        "colab": {
          "base_uri": "https://localhost:8080/"
        },
        "id": "H0cAen3zkkhQ",
        "outputId": "ed21af6d-740b-4f89-86fa-93c246e5bf4d"
      },
      "execution_count": 26,
      "outputs": [
        {
          "output_type": "stream",
          "name": "stderr",
          "text": [
            "[nltk_data] Downloading package stopwords to /root/nltk_data...\n",
            "[nltk_data]   Package stopwords is already up-to-date!\n"
          ]
        },
        {
          "output_type": "execute_result",
          "data": {
            "text/plain": [
              "True"
            ]
          },
          "metadata": {},
          "execution_count": 26
        }
      ]
    },
    {
      "cell_type": "code",
      "source": [
        "# PRINTING ENGLISH STOPWORDS\n",
        "print(stopwords.words('english'))"
      ],
      "metadata": {
        "colab": {
          "base_uri": "https://localhost:8080/"
        },
        "id": "z82fwt7EkpVV",
        "outputId": "a6985a79-251f-44ff-bd60-4d273858c4d7"
      },
      "execution_count": 27,
      "outputs": [
        {
          "output_type": "stream",
          "name": "stdout",
          "text": [
            "['i', 'me', 'my', 'myself', 'we', 'our', 'ours', 'ourselves', 'you', \"you're\", \"you've\", \"you'll\", \"you'd\", 'your', 'yours', 'yourself', 'yourselves', 'he', 'him', 'his', 'himself', 'she', \"she's\", 'her', 'hers', 'herself', 'it', \"it's\", 'its', 'itself', 'they', 'them', 'their', 'theirs', 'themselves', 'what', 'which', 'who', 'whom', 'this', 'that', \"that'll\", 'these', 'those', 'am', 'is', 'are', 'was', 'were', 'be', 'been', 'being', 'have', 'has', 'had', 'having', 'do', 'does', 'did', 'doing', 'a', 'an', 'the', 'and', 'but', 'if', 'or', 'because', 'as', 'until', 'while', 'of', 'at', 'by', 'for', 'with', 'about', 'against', 'between', 'into', 'through', 'during', 'before', 'after', 'above', 'below', 'to', 'from', 'up', 'down', 'in', 'out', 'on', 'off', 'over', 'under', 'again', 'further', 'then', 'once', 'here', 'there', 'when', 'where', 'why', 'how', 'all', 'any', 'both', 'each', 'few', 'more', 'most', 'other', 'some', 'such', 'no', 'nor', 'not', 'only', 'own', 'same', 'so', 'than', 'too', 'very', 's', 't', 'can', 'will', 'just', 'don', \"don't\", 'should', \"should've\", 'now', 'd', 'll', 'm', 'o', 're', 've', 'y', 'ain', 'aren', \"aren't\", 'couldn', \"couldn't\", 'didn', \"didn't\", 'doesn', \"doesn't\", 'hadn', \"hadn't\", 'hasn', \"hasn't\", 'haven', \"haven't\", 'isn', \"isn't\", 'ma', 'mightn', \"mightn't\", 'mustn', \"mustn't\", 'needn', \"needn't\", 'shan', \"shan't\", 'shouldn', \"shouldn't\", 'wasn', \"wasn't\", 'weren', \"weren't\", 'won', \"won't\", 'wouldn', \"wouldn't\"]\n"
          ]
        }
      ]
    },
    {
      "cell_type": "code",
      "source": [
        "def remove_stopwords(text):\n",
        "  l = []\n",
        "  for word in text.split():\n",
        "    if word not in stopwords.words('english'):\n",
        "      l.append(word)\n",
        "  x = l[:]\n",
        "  l.clear()\n",
        "  return x    "
      ],
      "metadata": {
        "id": "g_kNUuPlkxjZ"
      },
      "execution_count": 28,
      "outputs": []
    },
    {
      "cell_type": "code",
      "source": [
        "df['review'] = df['review'].apply(remove_stopwords)"
      ],
      "metadata": {
        "id": "niia_z1mmhu-"
      },
      "execution_count": 29,
      "outputs": []
    },
    {
      "cell_type": "code",
      "source": [
        "df['review']"
      ],
      "metadata": {
        "id": "ULJf3RZmp_AD",
        "colab": {
          "base_uri": "https://localhost:8080/"
        },
        "outputId": "c1b7db96-55cc-476f-a691-93a4e9f79a0b"
      },
      "execution_count": 30,
      "outputs": [
        {
          "output_type": "execute_result",
          "data": {
            "text/plain": [
              "0       [films, like, mouse, hunt, get, theatres, law,...\n",
              "1       [talented, actresses, blessed, demonstrated, w...\n",
              "2       [extraordinary, year, australian, films, shine...\n",
              "3       [according, hollywood, movies, made, last, dec...\n",
              "4       [first, press, screening, 1998, already, gotte...\n",
              "                              ...                        \n",
              "1995    [like, movies, albert, brooks, really, like, m...\n",
              "1996    [might, surprise, know, joel, ethan, coen, bro...\n",
              "1997    [verdict, spine, chilling, drama, horror, maes...\n",
              "1998    [want, correct, wrote, former, retrospective, ...\n",
              "1999    [couple, months, ago, first, downloaded, face,...\n",
              "Name: review, Length: 1938, dtype: object"
            ]
          },
          "metadata": {},
          "execution_count": 30
        }
      ]
    },
    {
      "cell_type": "markdown",
      "source": [
        "### Stemming"
      ],
      "metadata": {
        "id": "1cP2G_IcnBbY"
      }
    },
    {
      "cell_type": "code",
      "source": [
        "from nltk.stem import SnowballStemmer"
      ],
      "metadata": {
        "id": "MmvfzvupmoRY"
      },
      "execution_count": 31,
      "outputs": []
    },
    {
      "cell_type": "code",
      "source": [
        "snowball_stemmer = SnowballStemmer(language='english')"
      ],
      "metadata": {
        "id": "rqnyY1UNo2pL"
      },
      "execution_count": 32,
      "outputs": []
    },
    {
      "cell_type": "code",
      "source": [
        "def stemmer(text_list):\n",
        "  x = []\n",
        "  for word in text_list:\n",
        "    x.append(snowball_stemmer.stem(word))\n",
        "  y = x[:]\n",
        "  x.clear()\n",
        "  return y  "
      ],
      "metadata": {
        "id": "5YVvDp26pThA"
      },
      "execution_count": 33,
      "outputs": []
    },
    {
      "cell_type": "code",
      "source": [
        "df['review'] = df['review'].apply(stemmer)"
      ],
      "metadata": {
        "id": "tLzpQbeSq0-l"
      },
      "execution_count": 34,
      "outputs": []
    },
    {
      "cell_type": "code",
      "source": [
        "df['review']"
      ],
      "metadata": {
        "id": "sWeBqKYarWXu",
        "colab": {
          "base_uri": "https://localhost:8080/"
        },
        "outputId": "adea6116-758b-43c8-863f-b917bc9ed768"
      },
      "execution_count": 35,
      "outputs": [
        {
          "output_type": "execute_result",
          "data": {
            "text/plain": [
              "0       [film, like, mous, hunt, get, theatr, law, som...\n",
              "1       [talent, actress, bless, demonstr, wide, act, ...\n",
              "2       [extraordinari, year, australian, film, shine,...\n",
              "3       [accord, hollywood, movi, made, last, decad, l...\n",
              "4       [first, press, screen, 1998, alreadi, gotten, ...\n",
              "                              ...                        \n",
              "1995    [like, movi, albert, brook, realli, like, movi...\n",
              "1996    [might, surpris, know, joel, ethan, coen, brou...\n",
              "1997    [verdict, spine, chill, drama, horror, maestro...\n",
              "1998    [want, correct, wrote, former, retrospect, dav...\n",
              "1999    [coupl, month, ago, first, download, face, tra...\n",
              "Name: review, Length: 1938, dtype: object"
            ]
          },
          "metadata": {},
          "execution_count": 35
        }
      ]
    },
    {
      "cell_type": "markdown",
      "source": [
        "#### Joining the list of words in review column"
      ],
      "metadata": {
        "id": "jX4oEe0DrVZ3"
      }
    },
    {
      "cell_type": "code",
      "source": [
        "def join_words(words_list):\n",
        "  return ' '.join(words_list)"
      ],
      "metadata": {
        "id": "tIkTEz-Nq3rg"
      },
      "execution_count": 36,
      "outputs": []
    },
    {
      "cell_type": "code",
      "source": [
        "df['review'] = df['review'].apply(join_words)"
      ],
      "metadata": {
        "id": "Pi19GY2arxyg"
      },
      "execution_count": 37,
      "outputs": []
    },
    {
      "cell_type": "code",
      "source": [
        "df['review']"
      ],
      "metadata": {
        "id": "swiCoRtVr9EI",
        "colab": {
          "base_uri": "https://localhost:8080/"
        },
        "outputId": "516b4b83-1b64-434c-e068-bc3815790944"
      },
      "execution_count": 38,
      "outputs": [
        {
          "output_type": "execute_result",
          "data": {
            "text/plain": [
              "0       film like mous hunt get theatr law someth diab...\n",
              "1       talent actress bless demonstr wide act rang ot...\n",
              "2       extraordinari year australian film shine scoop...\n",
              "3       accord hollywood movi made last decad life sma...\n",
              "4       first press screen 1998 alreadi gotten prime c...\n",
              "                              ...                        \n",
              "1995    like movi albert brook realli like movi direct...\n",
              "1996    might surpris know joel ethan coen brought una...\n",
              "1997    verdict spine chill drama horror maestro steph...\n",
              "1998    want correct wrote former retrospect david lea...\n",
              "1999    coupl month ago first download face trailer ne...\n",
              "Name: review, Length: 1938, dtype: object"
            ]
          },
          "metadata": {},
          "execution_count": 38
        }
      ]
    },
    {
      "cell_type": "code",
      "source": [
        "X = df['review']\n",
        "y = df['label']"
      ],
      "metadata": {
        "id": "GNYrS6afRBIh"
      },
      "execution_count": 39,
      "outputs": []
    },
    {
      "cell_type": "markdown",
      "source": [
        "## Count Vectorizing\n",
        "**Count Vectorizer is used to transform a given text into a vector on the basis of the frequency (count) of each word that occurs in the entire text.**"
      ],
      "metadata": {
        "id": "ius_H6WCtd4C"
      }
    },
    {
      "cell_type": "code",
      "source": [
        "from sklearn.feature_extraction.text import CountVectorizer"
      ],
      "metadata": {
        "id": "I2BRPZq0sAGl"
      },
      "execution_count": 40,
      "outputs": []
    },
    {
      "cell_type": "markdown",
      "source": [
        "**Getting top 20 words used in positive reviews**"
      ],
      "metadata": {
        "id": "dybfVdzKrenL"
      }
    },
    {
      "cell_type": "code",
      "source": [
        "count_vectorizer = CountVectorizer()\n",
        "sparse_matrix_pos_label = count_vectorizer.fit_transform(df[df['label']=='pos']['review'])\n",
        "pos_freqs = zip(count_vectorizer.get_feature_names_out(),\n",
        "                sparse_matrix_pos_label.sum(axis=0).tolist()[0])         \n",
        "print('Top 20 words used in Positive Reviews')\n",
        "print(sorted(pos_freqs,key=lambda x: -x[1])[:20])"
      ],
      "metadata": {
        "id": "JoAAeg2etkdQ",
        "colab": {
          "base_uri": "https://localhost:8080/"
        },
        "outputId": "4a5263bb-6352-4cd8-db3d-cc8c611fa683"
      },
      "execution_count": 41,
      "outputs": [
        {
          "output_type": "stream",
          "name": "stdout",
          "text": [
            "Top 20 words used in Positive Reviews\n",
            "[('film', 5931), ('movi', 2996), ('one', 2986), ('charact', 1996), ('like', 1940), ('make', 1626), ('time', 1530), ('get', 1448), ('stori', 1295), ('scene', 1279), ('good', 1226), ('see', 1184), ('play', 1182), ('even', 1159), ('also', 1151), ('well', 1084), ('life', 1034), ('much', 992), ('would', 983), ('seem', 978)]\n"
          ]
        }
      ]
    },
    {
      "cell_type": "markdown",
      "source": [
        "**Getting top 20 words used in negative reviews**"
      ],
      "metadata": {
        "id": "TBWw8WTWrjUT"
      }
    },
    {
      "cell_type": "code",
      "source": [
        "count_vectorizer = CountVectorizer()\n",
        "sparse_matrix_neg_label = count_vectorizer.fit_transform(df[df['label']=='neg']['review'])\n",
        "neg_freqs = zip(count_vectorizer.get_feature_names_out(),\n",
        "                sparse_matrix_neg_label.sum(axis=0).tolist()[0])\n",
        "print('Top 20 words used in Negative Reviews')\n",
        "print(sorted(neg_freqs,key=lambda x: -x[1])[:20])"
      ],
      "metadata": {
        "id": "BvLOD_i3qJUc",
        "colab": {
          "base_uri": "https://localhost:8080/"
        },
        "outputId": "632e1641-a83b-4938-c128-94151e6a52d7"
      },
      "execution_count": 42,
      "outputs": [
        {
          "output_type": "stream",
          "name": "stdout",
          "text": [
            "Top 20 words used in Negative Reviews\n",
            "[('film', 4748), ('movi', 3676), ('one', 2741), ('like', 2015), ('charact', 1764), ('get', 1641), ('make', 1482), ('time', 1392), ('even', 1339), ('scene', 1242), ('good', 1145), ('play', 1101), ('bad', 1065), ('would', 1056), ('look', 1017), ('much', 982), ('go', 978), ('stori', 970), ('plot', 948), ('see', 930)]\n"
          ]
        }
      ]
    },
    {
      "cell_type": "code",
      "source": [
        "# IMPORTING REQUIRED LIBRARIES FROM SKLEARN\n",
        "from sklearn.model_selection import train_test_split,GridSearchCV\n",
        "from sklearn.pipeline import Pipeline\n",
        "from sklearn.feature_extraction.text import TfidfVectorizer\n",
        "from sklearn.naive_bayes import GaussianNB,MultinomialNB,BernoulliNB\n",
        "from sklearn.svm import LinearSVC\n",
        "from sklearn.ensemble import VotingClassifier\n",
        "from sklearn.metrics import classification_report,accuracy_score,confusion_matrix,ConfusionMatrixDisplay"
      ],
      "metadata": {
        "id": "bOSyup_HtMvS"
      },
      "execution_count": 43,
      "outputs": []
    },
    {
      "cell_type": "markdown",
      "source": [
        "#### Train-Test Split"
      ],
      "metadata": {
        "id": "CV5WtdlstER1"
      }
    },
    {
      "cell_type": "code",
      "source": [
        "X.shape,y.shape"
      ],
      "metadata": {
        "id": "BmeoEAzpt5oE",
        "colab": {
          "base_uri": "https://localhost:8080/"
        },
        "outputId": "642c7271-2854-48bb-a48b-e11c88791aae"
      },
      "execution_count": 44,
      "outputs": [
        {
          "output_type": "execute_result",
          "data": {
            "text/plain": [
              "((1938,), (1938,))"
            ]
          },
          "metadata": {},
          "execution_count": 44
        }
      ]
    },
    {
      "cell_type": "code",
      "source": [
        "X_train, X_test, y_train, y_test = train_test_split(X, y, test_size=0.3, random_state=31)"
      ],
      "metadata": {
        "id": "5RYe68bhsX62"
      },
      "execution_count": 45,
      "outputs": []
    },
    {
      "cell_type": "code",
      "source": [
        "print('X_train shape is ',X_train.shape)\n",
        "print('X_test shape is ',X_test.shape)\n",
        "print('y_train shape is ',y_train.shape)\n",
        "print('y_test shape is ',y_test.shape)"
      ],
      "metadata": {
        "id": "6UyirHlguF42",
        "colab": {
          "base_uri": "https://localhost:8080/"
        },
        "outputId": "bbbdb707-12d1-49de-ee21-0fda3767ef5b"
      },
      "execution_count": 46,
      "outputs": [
        {
          "output_type": "stream",
          "name": "stdout",
          "text": [
            "X_train shape is  (1356,)\n",
            "X_test shape is  (582,)\n",
            "y_train shape is  (1356,)\n",
            "y_test shape is  (582,)\n"
          ]
        }
      ]
    },
    {
      "cell_type": "markdown",
      "source": [
        "## Term Frequency-Inverse Document Frequency\n",
        "**Tf-idf is a measure of originality of a word by comparing number of times a word appears in a document with number of documents the word appears in.** \n",
        "### Tf-idf Vectorizer = CountVectorizer + Tf-idf Transformer\n",
        "### Term Frequency :\n",
        "Term Frequency(tf) of a word in a document is \\\n",
        "**tf(word,document) = count of word in document / total number of words in document**"
      ],
      "metadata": {
        "id": "ivwy6nPMtg_V"
      }
    },
    {
      "cell_type": "code",
      "source": [
        "# CRETING AN INSTANCE OF TF-IDF VECTORIZER\n",
        "tfidf_vectorizer = TfidfVectorizer()"
      ],
      "metadata": {
        "id": "OG1-ZCfSuR12"
      },
      "execution_count": 47,
      "outputs": []
    },
    {
      "cell_type": "code",
      "source": [
        "tfidf_vectorizer.fit(X_train)"
      ],
      "metadata": {
        "id": "yDW0PXniuofZ",
        "colab": {
          "base_uri": "https://localhost:8080/",
          "height": 74
        },
        "outputId": "42aa0a16-239b-4f94-eb30-fa9a67f8956f"
      },
      "execution_count": 48,
      "outputs": [
        {
          "output_type": "execute_result",
          "data": {
            "text/plain": [
              "TfidfVectorizer()"
            ],
            "text/html": [
              "<style>#sk-container-id-1 {color: black;background-color: white;}#sk-container-id-1 pre{padding: 0;}#sk-container-id-1 div.sk-toggleable {background-color: white;}#sk-container-id-1 label.sk-toggleable__label {cursor: pointer;display: block;width: 100%;margin-bottom: 0;padding: 0.3em;box-sizing: border-box;text-align: center;}#sk-container-id-1 label.sk-toggleable__label-arrow:before {content: \"▸\";float: left;margin-right: 0.25em;color: #696969;}#sk-container-id-1 label.sk-toggleable__label-arrow:hover:before {color: black;}#sk-container-id-1 div.sk-estimator:hover label.sk-toggleable__label-arrow:before {color: black;}#sk-container-id-1 div.sk-toggleable__content {max-height: 0;max-width: 0;overflow: hidden;text-align: left;background-color: #f0f8ff;}#sk-container-id-1 div.sk-toggleable__content pre {margin: 0.2em;color: black;border-radius: 0.25em;background-color: #f0f8ff;}#sk-container-id-1 input.sk-toggleable__control:checked~div.sk-toggleable__content {max-height: 200px;max-width: 100%;overflow: auto;}#sk-container-id-1 input.sk-toggleable__control:checked~label.sk-toggleable__label-arrow:before {content: \"▾\";}#sk-container-id-1 div.sk-estimator input.sk-toggleable__control:checked~label.sk-toggleable__label {background-color: #d4ebff;}#sk-container-id-1 div.sk-label input.sk-toggleable__control:checked~label.sk-toggleable__label {background-color: #d4ebff;}#sk-container-id-1 input.sk-hidden--visually {border: 0;clip: rect(1px 1px 1px 1px);clip: rect(1px, 1px, 1px, 1px);height: 1px;margin: -1px;overflow: hidden;padding: 0;position: absolute;width: 1px;}#sk-container-id-1 div.sk-estimator {font-family: monospace;background-color: #f0f8ff;border: 1px dotted black;border-radius: 0.25em;box-sizing: border-box;margin-bottom: 0.5em;}#sk-container-id-1 div.sk-estimator:hover {background-color: #d4ebff;}#sk-container-id-1 div.sk-parallel-item::after {content: \"\";width: 100%;border-bottom: 1px solid gray;flex-grow: 1;}#sk-container-id-1 div.sk-label:hover label.sk-toggleable__label {background-color: #d4ebff;}#sk-container-id-1 div.sk-serial::before {content: \"\";position: absolute;border-left: 1px solid gray;box-sizing: border-box;top: 0;bottom: 0;left: 50%;z-index: 0;}#sk-container-id-1 div.sk-serial {display: flex;flex-direction: column;align-items: center;background-color: white;padding-right: 0.2em;padding-left: 0.2em;position: relative;}#sk-container-id-1 div.sk-item {position: relative;z-index: 1;}#sk-container-id-1 div.sk-parallel {display: flex;align-items: stretch;justify-content: center;background-color: white;position: relative;}#sk-container-id-1 div.sk-item::before, #sk-container-id-1 div.sk-parallel-item::before {content: \"\";position: absolute;border-left: 1px solid gray;box-sizing: border-box;top: 0;bottom: 0;left: 50%;z-index: -1;}#sk-container-id-1 div.sk-parallel-item {display: flex;flex-direction: column;z-index: 1;position: relative;background-color: white;}#sk-container-id-1 div.sk-parallel-item:first-child::after {align-self: flex-end;width: 50%;}#sk-container-id-1 div.sk-parallel-item:last-child::after {align-self: flex-start;width: 50%;}#sk-container-id-1 div.sk-parallel-item:only-child::after {width: 0;}#sk-container-id-1 div.sk-dashed-wrapped {border: 1px dashed gray;margin: 0 0.4em 0.5em 0.4em;box-sizing: border-box;padding-bottom: 0.4em;background-color: white;}#sk-container-id-1 div.sk-label label {font-family: monospace;font-weight: bold;display: inline-block;line-height: 1.2em;}#sk-container-id-1 div.sk-label-container {text-align: center;}#sk-container-id-1 div.sk-container {/* jupyter's `normalize.less` sets `[hidden] { display: none; }` but bootstrap.min.css set `[hidden] { display: none !important; }` so we also need the `!important` here to be able to override the default hidden behavior on the sphinx rendered scikit-learn.org. See: https://github.com/scikit-learn/scikit-learn/issues/21755 */display: inline-block !important;position: relative;}#sk-container-id-1 div.sk-text-repr-fallback {display: none;}</style><div id=\"sk-container-id-1\" class=\"sk-top-container\"><div class=\"sk-text-repr-fallback\"><pre>TfidfVectorizer()</pre><b>In a Jupyter environment, please rerun this cell to show the HTML representation or trust the notebook. <br />On GitHub, the HTML representation is unable to render, please try loading this page with nbviewer.org.</b></div><div class=\"sk-container\" hidden><div class=\"sk-item\"><div class=\"sk-estimator sk-toggleable\"><input class=\"sk-toggleable__control sk-hidden--visually\" id=\"sk-estimator-id-1\" type=\"checkbox\" checked><label for=\"sk-estimator-id-1\" class=\"sk-toggleable__label sk-toggleable__label-arrow\">TfidfVectorizer</label><div class=\"sk-toggleable__content\"><pre>TfidfVectorizer()</pre></div></div></div></div></div>"
            ]
          },
          "metadata": {},
          "execution_count": 48
        }
      ]
    },
    {
      "cell_type": "code",
      "source": [
        "X_train"
      ],
      "metadata": {
        "colab": {
          "base_uri": "https://localhost:8080/"
        },
        "id": "WCoTIlno7dd9",
        "outputId": "92f6b754-87d1-4105-c537-5127fe7eafeb"
      },
      "execution_count": 49,
      "outputs": [
        {
          "output_type": "execute_result",
          "data": {
            "text/plain": [
              "681     recent year harrison ford grave screen presenc...\n",
              "631     would one could see well super smart bio molec...\n",
              "1172    uncompromis nuditi bare throughout petric cher...\n",
              "1451    notic review analysi exotica first part piec r...\n",
              "1832    rememb realli enjoy movi saw year ago guess me...\n",
              "                              ...                        \n",
              "629     wonderland rather sugari romanc film subtl ton...\n",
              "924     near end 1996 analyst remark year would last d...\n",
              "16      rememb hear film first appear cann year ago pi...\n",
              "1679    even though utmost respect richard dreyfuss ac...\n",
              "747     ever wonder death someth simpli happen natur g...\n",
              "Name: review, Length: 1356, dtype: object"
            ]
          },
          "metadata": {},
          "execution_count": 49
        }
      ]
    },
    {
      "cell_type": "code",
      "source": [
        "tfidf_vectorized_X_train = tfidf_vectorizer.transform(X_train)\n",
        "tfidf_vectorized_X_test = tfidf_vectorizer.transform(X_test)"
      ],
      "metadata": {
        "id": "H7Jy7p51urOj"
      },
      "execution_count": 50,
      "outputs": []
    },
    {
      "cell_type": "markdown",
      "source": [
        "## Naive Bayes\n",
        "* **Naive Bayes is a probabilistic classification model in machine learning that depends on Bayes Theorem.**  \n",
        "* **Naibe Bayes assumes that all predictors are independent to each other.** \\\n",
        "* **Naive Bayes most oftenly used in text classification.**\n"
      ],
      "metadata": {
        "id": "MbKYbu-auaOy"
      }
    },
    {
      "cell_type": "markdown",
      "source": [
        "**In statistics, a distribution is a function that shows the possible values for a variable and how often they occur within a given dataset. It enables you to calculate the probability of certain outcomes occurring, and to understand how much variation there is within your dataset.**"
      ],
      "metadata": {
        "id": "6WTXGBGM1rID"
      }
    },
    {
      "cell_type": "markdown",
      "source": [
        "## Gaussian Naive Bayes\n",
        "**This classifier is used when the values of predictors are continuous in nature and it is assumed that they follow Gaussian(Normal) distribution.**"
      ],
      "metadata": {
        "id": "6MA16zcpxIrj"
      }
    },
    {
      "cell_type": "markdown",
      "source": [
        "![image.png](data:image/png;base64,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)"
      ],
      "metadata": {
        "id": "7atHRodlxxpL"
      }
    },
    {
      "cell_type": "markdown",
      "source": [
        "## Multinomial Naive Bayes\n",
        "* **This classifier uses multinomial distribution and is mostly used for document or text classification problems.** \n",
        "* **This classifier predicts the tag of a text such as a piece of email or newspaper article.** \n",
        "* **Multinomial distribution is a generalization of Binomial distribution.**"
      ],
      "metadata": {
        "id": "PRFOgU7fxMDj"
      }
    },
    {
      "cell_type": "markdown",
      "source": [
        "## Bernoulli Naive Bayes\n",
        "* **This classifier is used when the predictors are boolean in nature and it is assumed they follow Bernoulli distribution.** \n",
        "* **Bernoulli distribution is also referred as Discrete Probability distribution which means it only considers discrete random variables.A discrete random variable is one that has a finite or countable number of possible values.**"
      ],
      "metadata": {
        "id": "wsjgSbCJxOz0"
      }
    },
    {
      "cell_type": "code",
      "source": [
        "# CREATING INSTANCES OF GAUSSIAN-NAIVE BAYES,MULTINOMIAL-NAIVE BAYES,BERNOULLI-NAIVE BAYES\n",
        "gaussian_nb_model = GaussianNB()\n",
        "multinomial_nb_model = MultinomialNB()\n",
        "bernoulli_nb_model = BernoulliNB()\n",
        "svc_model = LinearSVC()"
      ],
      "metadata": {
        "id": "oRLyCI8VvIIw"
      },
      "execution_count": 51,
      "outputs": []
    },
    {
      "cell_type": "code",
      "source": [
        "# FITTING THOSE NAIVE BAYES MODELS\n",
        "gaussian_nb_model.fit(tfidf_vectorized_X_train.toarray(),y_train)\n",
        "multinomial_nb_model.fit(tfidf_vectorized_X_train.toarray(),y_train)\n",
        "bernoulli_nb_model.fit(tfidf_vectorized_X_train.toarray(),y_train)\n",
        "svc_model.fit(tfidf_vectorized_X_train.toarray(),y_train)"
      ],
      "metadata": {
        "colab": {
          "base_uri": "https://localhost:8080/",
          "height": 74
        },
        "id": "a6piaWO5uKPG",
        "outputId": "7d383bc4-fd45-437b-a2e1-bd0480ee0eb2"
      },
      "execution_count": 52,
      "outputs": [
        {
          "output_type": "execute_result",
          "data": {
            "text/plain": [
              "LinearSVC()"
            ],
            "text/html": [
              "<style>#sk-container-id-2 {color: black;background-color: white;}#sk-container-id-2 pre{padding: 0;}#sk-container-id-2 div.sk-toggleable {background-color: white;}#sk-container-id-2 label.sk-toggleable__label {cursor: pointer;display: block;width: 100%;margin-bottom: 0;padding: 0.3em;box-sizing: border-box;text-align: center;}#sk-container-id-2 label.sk-toggleable__label-arrow:before {content: \"▸\";float: left;margin-right: 0.25em;color: #696969;}#sk-container-id-2 label.sk-toggleable__label-arrow:hover:before {color: black;}#sk-container-id-2 div.sk-estimator:hover label.sk-toggleable__label-arrow:before {color: black;}#sk-container-id-2 div.sk-toggleable__content {max-height: 0;max-width: 0;overflow: hidden;text-align: left;background-color: #f0f8ff;}#sk-container-id-2 div.sk-toggleable__content pre {margin: 0.2em;color: black;border-radius: 0.25em;background-color: #f0f8ff;}#sk-container-id-2 input.sk-toggleable__control:checked~div.sk-toggleable__content {max-height: 200px;max-width: 100%;overflow: auto;}#sk-container-id-2 input.sk-toggleable__control:checked~label.sk-toggleable__label-arrow:before {content: \"▾\";}#sk-container-id-2 div.sk-estimator input.sk-toggleable__control:checked~label.sk-toggleable__label {background-color: #d4ebff;}#sk-container-id-2 div.sk-label input.sk-toggleable__control:checked~label.sk-toggleable__label {background-color: #d4ebff;}#sk-container-id-2 input.sk-hidden--visually {border: 0;clip: rect(1px 1px 1px 1px);clip: rect(1px, 1px, 1px, 1px);height: 1px;margin: -1px;overflow: hidden;padding: 0;position: absolute;width: 1px;}#sk-container-id-2 div.sk-estimator {font-family: monospace;background-color: #f0f8ff;border: 1px dotted black;border-radius: 0.25em;box-sizing: border-box;margin-bottom: 0.5em;}#sk-container-id-2 div.sk-estimator:hover {background-color: #d4ebff;}#sk-container-id-2 div.sk-parallel-item::after {content: \"\";width: 100%;border-bottom: 1px solid gray;flex-grow: 1;}#sk-container-id-2 div.sk-label:hover label.sk-toggleable__label {background-color: #d4ebff;}#sk-container-id-2 div.sk-serial::before {content: \"\";position: absolute;border-left: 1px solid gray;box-sizing: border-box;top: 0;bottom: 0;left: 50%;z-index: 0;}#sk-container-id-2 div.sk-serial {display: flex;flex-direction: column;align-items: center;background-color: white;padding-right: 0.2em;padding-left: 0.2em;position: relative;}#sk-container-id-2 div.sk-item {position: relative;z-index: 1;}#sk-container-id-2 div.sk-parallel {display: flex;align-items: stretch;justify-content: center;background-color: white;position: relative;}#sk-container-id-2 div.sk-item::before, #sk-container-id-2 div.sk-parallel-item::before {content: \"\";position: absolute;border-left: 1px solid gray;box-sizing: border-box;top: 0;bottom: 0;left: 50%;z-index: -1;}#sk-container-id-2 div.sk-parallel-item {display: flex;flex-direction: column;z-index: 1;position: relative;background-color: white;}#sk-container-id-2 div.sk-parallel-item:first-child::after {align-self: flex-end;width: 50%;}#sk-container-id-2 div.sk-parallel-item:last-child::after {align-self: flex-start;width: 50%;}#sk-container-id-2 div.sk-parallel-item:only-child::after {width: 0;}#sk-container-id-2 div.sk-dashed-wrapped {border: 1px dashed gray;margin: 0 0.4em 0.5em 0.4em;box-sizing: border-box;padding-bottom: 0.4em;background-color: white;}#sk-container-id-2 div.sk-label label {font-family: monospace;font-weight: bold;display: inline-block;line-height: 1.2em;}#sk-container-id-2 div.sk-label-container {text-align: center;}#sk-container-id-2 div.sk-container {/* jupyter's `normalize.less` sets `[hidden] { display: none; }` but bootstrap.min.css set `[hidden] { display: none !important; }` so we also need the `!important` here to be able to override the default hidden behavior on the sphinx rendered scikit-learn.org. See: https://github.com/scikit-learn/scikit-learn/issues/21755 */display: inline-block !important;position: relative;}#sk-container-id-2 div.sk-text-repr-fallback {display: none;}</style><div id=\"sk-container-id-2\" class=\"sk-top-container\"><div class=\"sk-text-repr-fallback\"><pre>LinearSVC()</pre><b>In a Jupyter environment, please rerun this cell to show the HTML representation or trust the notebook. <br />On GitHub, the HTML representation is unable to render, please try loading this page with nbviewer.org.</b></div><div class=\"sk-container\" hidden><div class=\"sk-item\"><div class=\"sk-estimator sk-toggleable\"><input class=\"sk-toggleable__control sk-hidden--visually\" id=\"sk-estimator-id-2\" type=\"checkbox\" checked><label for=\"sk-estimator-id-2\" class=\"sk-toggleable__label sk-toggleable__label-arrow\">LinearSVC</label><div class=\"sk-toggleable__content\"><pre>LinearSVC()</pre></div></div></div></div></div>"
            ]
          },
          "metadata": {},
          "execution_count": 52
        }
      ]
    },
    {
      "cell_type": "code",
      "source": [
        "# GETTING PREDICTIONS OF NAIVE BAYES MODELS ON TEST DATA\n",
        "gaussian_nb_pred = gaussian_nb_model.predict(tfidf_vectorized_X_test.toarray())\n",
        "multinomial_nb_pred = multinomial_nb_model.predict(tfidf_vectorized_X_test.toarray())\n",
        "bernoulli_nb_pred = bernoulli_nb_model.predict(tfidf_vectorized_X_test.toarray())\n",
        "svc_pred = svc_model.predict(tfidf_vectorized_X_test.toarray())"
      ],
      "metadata": {
        "id": "uFsalJFavQQd"
      },
      "execution_count": 53,
      "outputs": []
    },
    {
      "cell_type": "code",
      "source": [
        "# GETTING ACCURACY SCORES\n",
        "print('\\033[1m'+'Accuracy Score of Gaussian Naive Bayes is',accuracy_score(y_test,gaussian_nb_pred))\n",
        "print('\\033[1m'+'Accuracy Score of Multinomial Naive Bayes is',accuracy_score(y_test,multinomial_nb_pred))\n",
        "print('\\033[1m'+'Accuracy Score of Bernoulli Naive Bayes is',accuracy_score(y_test,bernoulli_nb_pred))\n",
        "print('\\033[1m'+'Accuracy Score of Support Vector Classifier is',accuracy_score(y_test,svc_pred))"
      ],
      "metadata": {
        "colab": {
          "base_uri": "https://localhost:8080/"
        },
        "id": "I_7_qnYyx9xP",
        "outputId": "1bfa2922-d6c9-4279-8625-5098ec9bcaec"
      },
      "execution_count": 54,
      "outputs": [
        {
          "output_type": "stream",
          "name": "stdout",
          "text": [
            "\u001b[1mAccuracy Score of Gaussian Naive Bayes is 0.6202749140893471\n",
            "\u001b[1mAccuracy Score of Multinomial Naive Bayes is 0.7852233676975945\n",
            "\u001b[1mAccuracy Score of Bernoulli Naive Bayes is 0.7646048109965635\n",
            "\u001b[1mAccuracy Score of Support Vector Classifier is 0.8556701030927835\n"
          ]
        }
      ]
    },
    {
      "cell_type": "code",
      "source": [
        "# PRINTING CLASSIFICATION REPORTS OF ABOVE DEFINED 4 CLASSIFICATION MODELS\n",
        "print('\\033[1m'+'Gaussian Naive Bayes Classification Report')\n",
        "print(classification_report(y_test,gaussian_nb_pred))\n",
        "print(60*'-')\n",
        "print('\\033[1m'+'Multinomial Naive Bayes Classification Report')\n",
        "print(classification_report(y_test,multinomial_nb_pred))\n",
        "print(60*'-')\n",
        "print('\\033[1m'+'Bernoulli Naive Bayes Classification Report')\n",
        "print(classification_report(y_test,bernoulli_nb_pred))\n",
        "print(60*'-')\n",
        "print('\\033[1m'+'Support Vector Classification Classification Report')\n",
        "print(classification_report(y_test,svc_pred))"
      ],
      "metadata": {
        "colab": {
          "base_uri": "https://localhost:8080/"
        },
        "id": "QWlahQrEodW2",
        "outputId": "b8cfb95e-f350-4c3e-e4e1-bf505c876bb0"
      },
      "execution_count": 55,
      "outputs": [
        {
          "output_type": "stream",
          "name": "stdout",
          "text": [
            "\u001b[1mGaussian Naive Bayes Classification Report\n",
            "              precision    recall  f1-score   support\n",
            "\n",
            "         neg       0.67      0.56      0.61       310\n",
            "         pos       0.58      0.69      0.63       272\n",
            "\n",
            "    accuracy                           0.62       582\n",
            "   macro avg       0.63      0.62      0.62       582\n",
            "weighted avg       0.63      0.62      0.62       582\n",
            "\n",
            "------------------------------------------------------------\n",
            "\u001b[1mMultinomial Naive Bayes Classification Report\n",
            "              precision    recall  f1-score   support\n",
            "\n",
            "         neg       0.88      0.69      0.77       310\n",
            "         pos       0.72      0.89      0.79       272\n",
            "\n",
            "    accuracy                           0.79       582\n",
            "   macro avg       0.80      0.79      0.78       582\n",
            "weighted avg       0.80      0.79      0.78       582\n",
            "\n",
            "------------------------------------------------------------\n",
            "\u001b[1mBernoulli Naive Bayes Classification Report\n",
            "              precision    recall  f1-score   support\n",
            "\n",
            "         neg       0.74      0.86      0.80       310\n",
            "         pos       0.81      0.65      0.72       272\n",
            "\n",
            "    accuracy                           0.76       582\n",
            "   macro avg       0.77      0.76      0.76       582\n",
            "weighted avg       0.77      0.76      0.76       582\n",
            "\n",
            "------------------------------------------------------------\n",
            "\u001b[1mSupport Vector Classification Classification Report\n",
            "              precision    recall  f1-score   support\n",
            "\n",
            "         neg       0.88      0.84      0.86       310\n",
            "         pos       0.83      0.88      0.85       272\n",
            "\n",
            "    accuracy                           0.86       582\n",
            "   macro avg       0.86      0.86      0.86       582\n",
            "weighted avg       0.86      0.86      0.86       582\n",
            "\n"
          ]
        }
      ]
    },
    {
      "cell_type": "code",
      "source": [
        "# PLOTTING CONFUSION MATRICES OF THOSE NAIVE BAYES MODELS\n",
        "fig,axes = plt.subplots(1,4,dpi=150,figsize=(10,5))\n",
        "\n",
        "# DECLARING CONFUSION MATRICES FOR EACH MODEL\n",
        "gaussian_nb_matrix = ConfusionMatrixDisplay(confusion_matrix=confusion_matrix(y_test,gaussian_nb_pred),\n",
        "                                            display_labels=gaussian_nb_model.classes_)\n",
        "\n",
        "multinomial_nb_matrix = ConfusionMatrixDisplay(confusion_matrix=confusion_matrix(y_test,multinomial_nb_pred),\n",
        "                                            display_labels=multinomial_nb_model.classes_)\n",
        "\n",
        "bernoulli_nb_matrix = ConfusionMatrixDisplay(confusion_matrix=confusion_matrix(y_test,bernoulli_nb_pred),\n",
        "                                            display_labels=bernoulli_nb_model.classes_)\n",
        "\n",
        "svc_matrix = ConfusionMatrixDisplay(confusion_matrix=confusion_matrix(y_test,svc_pred),\n",
        "                                            display_labels=svc_model.classes_)\n",
        "\n",
        "# PLOTTING THOSE MATRICES IN SUBPLOTS\n",
        "gaussian_nb_matrix.plot(ax=axes[0])\n",
        "axes[0].set_title('Gaussian Naive Bayes')\n",
        "gaussian_nb_matrix.im_.colorbar.remove() # REMOVING COLORBAR\n",
        "\n",
        "multinomial_nb_matrix.plot(ax=axes[1])\n",
        "axes[1].set_title('Multinomial Naive Bayes')\n",
        "multinomial_nb_matrix.im_.colorbar.remove() # REMOVING COLORBAR\n",
        "\n",
        "bernoulli_nb_matrix.plot(ax=axes[2])\n",
        "axes[2].set_title('Bernoulli Naive Bayes')\n",
        "bernoulli_nb_matrix.im_.colorbar.remove() # REMOVING COLORBAR\n",
        "\n",
        "svc_matrix.plot(ax=axes[3])\n",
        "axes[3].set_title('Support Vector Classification')\n",
        "svc_matrix.im_.colorbar.remove() # REMOVING COLORBAR\n",
        "\n",
        "plt.tight_layout()"
      ],
      "metadata": {
        "colab": {
          "base_uri": "https://localhost:8080/",
          "height": 246
        },
        "id": "35ho0qRSyamH",
        "outputId": "2ca2a211-6005-4a24-8d5e-acd46957fdbf"
      },
      "execution_count": 71,
      "outputs": [
        {
          "output_type": "display_data",
          "data": {
            "text/plain": [
              "<Figure size 1500x750 with 4 Axes>"
            ],
            "image/png": "[encoded data removed]"
          },
          "metadata": {}
        }
      ]
    },
    {
      "cell_type": "markdown",
      "source": [
        "### Performing GridSearch for best paramters of SVC Classifier"
      ],
      "metadata": {
        "id": "9qm4zG4TxJx4"
      }
    },
    {
      "cell_type": "code",
      "source": [
        "svc = LinearSVC(random_state=31) # BASIC MODEL\n",
        "# ASSIGNING PARAMETER GRID FOR SUPPORT VECTOR CLASSIFIER\n",
        "svc_paramters = {'penalty':['l1','l2'],\n",
        "                 'loss':['hinge','squared_hinge'],\n",
        "                 'C':[0.1,1,10,100],\n",
        "                 'multi_class':['ovr','crammer_singer'],\n",
        "                 'max_iter':[100,300,500]}\n",
        "# CREATING GRIDSEARCHCV MODEL WITH SVC\n",
        "svc_grid_model = GridSearchCV(svc,param_grid=svc_paramters,scoring='accuracy',\n",
        "                              cv=10,n_jobs=-1)\n",
        "# FITTING THE GRID SEARCH MODEL\n",
        "svc_grid_model.fit(tfidf_vectorized_X_train.toarray(),y_train)"
      ],
      "metadata": {
        "colab": {
          "base_uri": "https://localhost:8080/",
          "height": 115
        },
        "id": "iNwYyfwXxI8y",
        "outputId": "47df40ee-35d4-43cf-ab84-80daad3c6005"
      },
      "execution_count": 57,
      "outputs": [
        {
          "output_type": "execute_result",
          "data": {
            "text/plain": [
              "GridSearchCV(cv=10, estimator=LinearSVC(random_state=31), n_jobs=-1,\n",
              "             param_grid={'C': [0.1, 1, 10, 100],\n",
              "                         'loss': ['hinge', 'squared_hinge'],\n",
              "                         'max_iter': [100, 300, 500],\n",
              "                         'multi_class': ['ovr', 'crammer_singer'],\n",
              "                         'penalty': ['l1', 'l2']},\n",
              "             scoring='accuracy')"
            ],
            "text/html": [
              "<style>#sk-container-id-3 {color: black;background-color: white;}#sk-container-id-3 pre{padding: 0;}#sk-container-id-3 div.sk-toggleable {background-color: white;}#sk-container-id-3 label.sk-toggleable__label {cursor: pointer;display: block;width: 100%;margin-bottom: 0;padding: 0.3em;box-sizing: border-box;text-align: center;}#sk-container-id-3 label.sk-toggleable__label-arrow:before {content: \"▸\";float: left;margin-right: 0.25em;color: #696969;}#sk-container-id-3 label.sk-toggleable__label-arrow:hover:before {color: black;}#sk-container-id-3 div.sk-estimator:hover label.sk-toggleable__label-arrow:before {color: black;}#sk-container-id-3 div.sk-toggleable__content {max-height: 0;max-width: 0;overflow: hidden;text-align: left;background-color: #f0f8ff;}#sk-container-id-3 div.sk-toggleable__content pre {margin: 0.2em;color: black;border-radius: 0.25em;background-color: #f0f8ff;}#sk-container-id-3 input.sk-toggleable__control:checked~div.sk-toggleable__content {max-height: 200px;max-width: 100%;overflow: auto;}#sk-container-id-3 input.sk-toggleable__control:checked~label.sk-toggleable__label-arrow:before {content: \"▾\";}#sk-container-id-3 div.sk-estimator input.sk-toggleable__control:checked~label.sk-toggleable__label {background-color: #d4ebff;}#sk-container-id-3 div.sk-label input.sk-toggleable__control:checked~label.sk-toggleable__label {background-color: #d4ebff;}#sk-container-id-3 input.sk-hidden--visually {border: 0;clip: rect(1px 1px 1px 1px);clip: rect(1px, 1px, 1px, 1px);height: 1px;margin: -1px;overflow: hidden;padding: 0;position: absolute;width: 1px;}#sk-container-id-3 div.sk-estimator {font-family: monospace;background-color: #f0f8ff;border: 1px dotted black;border-radius: 0.25em;box-sizing: border-box;margin-bottom: 0.5em;}#sk-container-id-3 div.sk-estimator:hover {background-color: #d4ebff;}#sk-container-id-3 div.sk-parallel-item::after {content: \"\";width: 100%;border-bottom: 1px solid gray;flex-grow: 1;}#sk-container-id-3 div.sk-label:hover label.sk-toggleable__label {background-color: #d4ebff;}#sk-container-id-3 div.sk-serial::before {content: \"\";position: absolute;border-left: 1px solid gray;box-sizing: border-box;top: 0;bottom: 0;left: 50%;z-index: 0;}#sk-container-id-3 div.sk-serial {display: flex;flex-direction: column;align-items: center;background-color: white;padding-right: 0.2em;padding-left: 0.2em;position: relative;}#sk-container-id-3 div.sk-item {position: relative;z-index: 1;}#sk-container-id-3 div.sk-parallel {display: flex;align-items: stretch;justify-content: center;background-color: white;position: relative;}#sk-container-id-3 div.sk-item::before, #sk-container-id-3 div.sk-parallel-item::before {content: \"\";position: absolute;border-left: 1px solid gray;box-sizing: border-box;top: 0;bottom: 0;left: 50%;z-index: -1;}#sk-container-id-3 div.sk-parallel-item {display: flex;flex-direction: column;z-index: 1;position: relative;background-color: white;}#sk-container-id-3 div.sk-parallel-item:first-child::after {align-self: flex-end;width: 50%;}#sk-container-id-3 div.sk-parallel-item:last-child::after {align-self: flex-start;width: 50%;}#sk-container-id-3 div.sk-parallel-item:only-child::after {width: 0;}#sk-container-id-3 div.sk-dashed-wrapped {border: 1px dashed gray;margin: 0 0.4em 0.5em 0.4em;box-sizing: border-box;padding-bottom: 0.4em;background-color: white;}#sk-container-id-3 div.sk-label label {font-family: monospace;font-weight: bold;display: inline-block;line-height: 1.2em;}#sk-container-id-3 div.sk-label-container {text-align: center;}#sk-container-id-3 div.sk-container {/* jupyter's `normalize.less` sets `[hidden] { display: none; }` but bootstrap.min.css set `[hidden] { display: none !important; }` so we also need the `!important` here to be able to override the default hidden behavior on the sphinx rendered scikit-learn.org. See: https://github.com/scikit-learn/scikit-learn/issues/21755 */display: inline-block !important;position: relative;}#sk-container-id-3 div.sk-text-repr-fallback {display: none;}</style><div id=\"sk-container-id-3\" class=\"sk-top-container\"><div class=\"sk-text-repr-fallback\"><pre>GridSearchCV(cv=10, estimator=LinearSVC(random_state=31), n_jobs=-1,\n",
              "             param_grid={&#x27;C&#x27;: [0.1, 1, 10, 100],\n",
              "                         &#x27;loss&#x27;: [&#x27;hinge&#x27;, &#x27;squared_hinge&#x27;],\n",
              "                         &#x27;max_iter&#x27;: [100, 300, 500],\n",
              "                         &#x27;multi_class&#x27;: [&#x27;ovr&#x27;, &#x27;crammer_singer&#x27;],\n",
              "                         &#x27;penalty&#x27;: [&#x27;l1&#x27;, &#x27;l2&#x27;]},\n",
              "             scoring=&#x27;accuracy&#x27;)</pre><b>In a Jupyter environment, please rerun this cell to show the HTML representation or trust the notebook. <br />On GitHub, the HTML representation is unable to render, please try loading this page with nbviewer.org.</b></div><div class=\"sk-container\" hidden><div class=\"sk-item sk-dashed-wrapped\"><div class=\"sk-label-container\"><div class=\"sk-label sk-toggleable\"><input class=\"sk-toggleable__control sk-hidden--visually\" id=\"sk-estimator-id-3\" type=\"checkbox\" ><label for=\"sk-estimator-id-3\" class=\"sk-toggleable__label sk-toggleable__label-arrow\">GridSearchCV</label><div class=\"sk-toggleable__content\"><pre>GridSearchCV(cv=10, estimator=LinearSVC(random_state=31), n_jobs=-1,\n",
              "             param_grid={&#x27;C&#x27;: [0.1, 1, 10, 100],\n",
              "                         &#x27;loss&#x27;: [&#x27;hinge&#x27;, &#x27;squared_hinge&#x27;],\n",
              "                         &#x27;max_iter&#x27;: [100, 300, 500],\n",
              "                         &#x27;multi_class&#x27;: [&#x27;ovr&#x27;, &#x27;crammer_singer&#x27;],\n",
              "                         &#x27;penalty&#x27;: [&#x27;l1&#x27;, &#x27;l2&#x27;]},\n",
              "             scoring=&#x27;accuracy&#x27;)</pre></div></div></div><div class=\"sk-parallel\"><div class=\"sk-parallel-item\"><div class=\"sk-item\"><div class=\"sk-label-container\"><div class=\"sk-label sk-toggleable\"><input class=\"sk-toggleable__control sk-hidden--visually\" id=\"sk-estimator-id-4\" type=\"checkbox\" ><label for=\"sk-estimator-id-4\" class=\"sk-toggleable__label sk-toggleable__label-arrow\">estimator: LinearSVC</label><div class=\"sk-toggleable__content\"><pre>LinearSVC(random_state=31)</pre></div></div></div><div class=\"sk-serial\"><div class=\"sk-item\"><div class=\"sk-estimator sk-toggleable\"><input class=\"sk-toggleable__control sk-hidden--visually\" id=\"sk-estimator-id-5\" type=\"checkbox\" ><label for=\"sk-estimator-id-5\" class=\"sk-toggleable__label sk-toggleable__label-arrow\">LinearSVC</label><div class=\"sk-toggleable__content\"><pre>LinearSVC(random_state=31)</pre></div></div></div></div></div></div></div></div></div></div>"
            ]
          },
          "metadata": {},
          "execution_count": 57
        }
      ]
    },
    {
      "cell_type": "code",
      "source": [
        "# GETTING BEST PARAMETERS FOR SVC\n",
        "svc_grid_model.best_params_"
      ],
      "metadata": {
        "colab": {
          "base_uri": "https://localhost:8080/"
        },
        "id": "OmGb4KEA0yE3",
        "outputId": "5a9c08f3-88cc-46b5-e524-1599d6794e9e"
      },
      "execution_count": 58,
      "outputs": [
        {
          "output_type": "execute_result",
          "data": {
            "text/plain": [
              "{'C': 1,\n",
              " 'loss': 'squared_hinge',\n",
              " 'max_iter': 100,\n",
              " 'multi_class': 'ovr',\n",
              " 'penalty': 'l2'}"
            ]
          },
          "metadata": {},
          "execution_count": 58
        }
      ]
    },
    {
      "cell_type": "code",
      "source": [
        "multinomial_nb = MultinomialNB() # BASIC MULTINOMIAL NAIVE BAYES MODEL\n",
        "# ASSIGNING PARAMTER GRID FOR MULTINOMIAL NAIVE BAYES\n",
        "multinomial_nb_parameters = {'alpha':[0.1,0.5,1,10,25,50],\n",
        "         'force_alpha':[True,False],\n",
        "         'fit_prior':[True,False]}\n",
        "# CREATING GRIDSEARCHCV MODEL WITH MULTINOMIAL NAIVE BAYES         \n",
        "multinomial_grid_model = GridSearchCV(multinomial_nb,param_grid=multinomial_nb_parameters,scoring='accuracy',\n",
        "                                      cv=10,n_jobs=-1)  \n",
        "# FITTING THE MODEL\n",
        "multinomial_grid_model.fit(tfidf_vectorized_X_train.toarray(),y_train)       "
      ],
      "metadata": {
        "colab": {
          "base_uri": "https://localhost:8080/",
          "height": 115
        },
        "id": "3DP3XvdO1gr9",
        "outputId": "a11926da-70e8-4b44-b0d2-729d34841b14"
      },
      "execution_count": 59,
      "outputs": [
        {
          "output_type": "execute_result",
          "data": {
            "text/plain": [
              "GridSearchCV(cv=10, estimator=MultinomialNB(), n_jobs=-1,\n",
              "             param_grid={'alpha': [0.1, 0.5, 1, 10, 25, 50],\n",
              "                         'fit_prior': [True, False],\n",
              "                         'force_alpha': [True, False]},\n",
              "             scoring='accuracy')"
            ],
            "text/html": [
              "<style>#sk-container-id-4 {color: black;background-color: white;}#sk-container-id-4 pre{padding: 0;}#sk-container-id-4 div.sk-toggleable {background-color: white;}#sk-container-id-4 label.sk-toggleable__label {cursor: pointer;display: block;width: 100%;margin-bottom: 0;padding: 0.3em;box-sizing: border-box;text-align: center;}#sk-container-id-4 label.sk-toggleable__label-arrow:before {content: \"▸\";float: left;margin-right: 0.25em;color: #696969;}#sk-container-id-4 label.sk-toggleable__label-arrow:hover:before {color: black;}#sk-container-id-4 div.sk-estimator:hover label.sk-toggleable__label-arrow:before {color: black;}#sk-container-id-4 div.sk-toggleable__content {max-height: 0;max-width: 0;overflow: hidden;text-align: left;background-color: #f0f8ff;}#sk-container-id-4 div.sk-toggleable__content pre {margin: 0.2em;color: black;border-radius: 0.25em;background-color: #f0f8ff;}#sk-container-id-4 input.sk-toggleable__control:checked~div.sk-toggleable__content {max-height: 200px;max-width: 100%;overflow: auto;}#sk-container-id-4 input.sk-toggleable__control:checked~label.sk-toggleable__label-arrow:before {content: \"▾\";}#sk-container-id-4 div.sk-estimator input.sk-toggleable__control:checked~label.sk-toggleable__label {background-color: #d4ebff;}#sk-container-id-4 div.sk-label input.sk-toggleable__control:checked~label.sk-toggleable__label {background-color: #d4ebff;}#sk-container-id-4 input.sk-hidden--visually {border: 0;clip: rect(1px 1px 1px 1px);clip: rect(1px, 1px, 1px, 1px);height: 1px;margin: -1px;overflow: hidden;padding: 0;position: absolute;width: 1px;}#sk-container-id-4 div.sk-estimator {font-family: monospace;background-color: #f0f8ff;border: 1px dotted black;border-radius: 0.25em;box-sizing: border-box;margin-bottom: 0.5em;}#sk-container-id-4 div.sk-estimator:hover {background-color: #d4ebff;}#sk-container-id-4 div.sk-parallel-item::after {content: \"\";width: 100%;border-bottom: 1px solid gray;flex-grow: 1;}#sk-container-id-4 div.sk-label:hover label.sk-toggleable__label {background-color: #d4ebff;}#sk-container-id-4 div.sk-serial::before {content: \"\";position: absolute;border-left: 1px solid gray;box-sizing: border-box;top: 0;bottom: 0;left: 50%;z-index: 0;}#sk-container-id-4 div.sk-serial {display: flex;flex-direction: column;align-items: center;background-color: white;padding-right: 0.2em;padding-left: 0.2em;position: relative;}#sk-container-id-4 div.sk-item {position: relative;z-index: 1;}#sk-container-id-4 div.sk-parallel {display: flex;align-items: stretch;justify-content: center;background-color: white;position: relative;}#sk-container-id-4 div.sk-item::before, #sk-container-id-4 div.sk-parallel-item::before {content: \"\";position: absolute;border-left: 1px solid gray;box-sizing: border-box;top: 0;bottom: 0;left: 50%;z-index: -1;}#sk-container-id-4 div.sk-parallel-item {display: flex;flex-direction: column;z-index: 1;position: relative;background-color: white;}#sk-container-id-4 div.sk-parallel-item:first-child::after {align-self: flex-end;width: 50%;}#sk-container-id-4 div.sk-parallel-item:last-child::after {align-self: flex-start;width: 50%;}#sk-container-id-4 div.sk-parallel-item:only-child::after {width: 0;}#sk-container-id-4 div.sk-dashed-wrapped {border: 1px dashed gray;margin: 0 0.4em 0.5em 0.4em;box-sizing: border-box;padding-bottom: 0.4em;background-color: white;}#sk-container-id-4 div.sk-label label {font-family: monospace;font-weight: bold;display: inline-block;line-height: 1.2em;}#sk-container-id-4 div.sk-label-container {text-align: center;}#sk-container-id-4 div.sk-container {/* jupyter's `normalize.less` sets `[hidden] { display: none; }` but bootstrap.min.css set `[hidden] { display: none !important; }` so we also need the `!important` here to be able to override the default hidden behavior on the sphinx rendered scikit-learn.org. See: https://github.com/scikit-learn/scikit-learn/issues/21755 */display: inline-block !important;position: relative;}#sk-container-id-4 div.sk-text-repr-fallback {display: none;}</style><div id=\"sk-container-id-4\" class=\"sk-top-container\"><div class=\"sk-text-repr-fallback\"><pre>GridSearchCV(cv=10, estimator=MultinomialNB(), n_jobs=-1,\n",
              "             param_grid={&#x27;alpha&#x27;: [0.1, 0.5, 1, 10, 25, 50],\n",
              "                         &#x27;fit_prior&#x27;: [True, False],\n",
              "                         &#x27;force_alpha&#x27;: [True, False]},\n",
              "             scoring=&#x27;accuracy&#x27;)</pre><b>In a Jupyter environment, please rerun this cell to show the HTML representation or trust the notebook. <br />On GitHub, the HTML representation is unable to render, please try loading this page with nbviewer.org.</b></div><div class=\"sk-container\" hidden><div class=\"sk-item sk-dashed-wrapped\"><div class=\"sk-label-container\"><div class=\"sk-label sk-toggleable\"><input class=\"sk-toggleable__control sk-hidden--visually\" id=\"sk-estimator-id-6\" type=\"checkbox\" ><label for=\"sk-estimator-id-6\" class=\"sk-toggleable__label sk-toggleable__label-arrow\">GridSearchCV</label><div class=\"sk-toggleable__content\"><pre>GridSearchCV(cv=10, estimator=MultinomialNB(), n_jobs=-1,\n",
              "             param_grid={&#x27;alpha&#x27;: [0.1, 0.5, 1, 10, 25, 50],\n",
              "                         &#x27;fit_prior&#x27;: [True, False],\n",
              "                         &#x27;force_alpha&#x27;: [True, False]},\n",
              "             scoring=&#x27;accuracy&#x27;)</pre></div></div></div><div class=\"sk-parallel\"><div class=\"sk-parallel-item\"><div class=\"sk-item\"><div class=\"sk-label-container\"><div class=\"sk-label sk-toggleable\"><input class=\"sk-toggleable__control sk-hidden--visually\" id=\"sk-estimator-id-7\" type=\"checkbox\" ><label for=\"sk-estimator-id-7\" class=\"sk-toggleable__label sk-toggleable__label-arrow\">estimator: MultinomialNB</label><div class=\"sk-toggleable__content\"><pre>MultinomialNB()</pre></div></div></div><div class=\"sk-serial\"><div class=\"sk-item\"><div class=\"sk-estimator sk-toggleable\"><input class=\"sk-toggleable__control sk-hidden--visually\" id=\"sk-estimator-id-8\" type=\"checkbox\" ><label for=\"sk-estimator-id-8\" class=\"sk-toggleable__label sk-toggleable__label-arrow\">MultinomialNB</label><div class=\"sk-toggleable__content\"><pre>MultinomialNB()</pre></div></div></div></div></div></div></div></div></div></div>"
            ]
          },
          "metadata": {},
          "execution_count": 59
        }
      ]
    },
    {
      "cell_type": "code",
      "source": [
        "# GETTING BEST PARAMETRS FOR MULTINOMIAL NAIVE BAYES\n",
        "multinomial_grid_model.best_params_"
      ],
      "metadata": {
        "colab": {
          "base_uri": "https://localhost:8080/"
        },
        "id": "bRoN-jCD2pmI",
        "outputId": "6c1f91a5-2f60-4fe0-8ba4-f148b5d104b7"
      },
      "execution_count": 61,
      "outputs": [
        {
          "output_type": "execute_result",
          "data": {
            "text/plain": [
              "{'alpha': 1, 'fit_prior': False, 'force_alpha': True}"
            ]
          },
          "metadata": {},
          "execution_count": 61
        }
      ]
    },
    {
      "cell_type": "markdown",
      "source": [
        "## Voting Ensembling\n",
        "**Using best parameters of SVC and Multinomial Bayes models as a bag of Voting estimators for making prediction.** \\\n",
        "**Making a Pipeline for Tf-idf Vectorization and for Voting Classifier.**\n"
      ],
      "metadata": {
        "id": "3rDU04Ick5ZL"
      }
    },
    {
      "cell_type": "code",
      "source": [
        "# CREATING A LIST OF ESTIMATORS\n",
        "estimators = [('Multinomial Naive Bayes',MultinomialNB(alpha=1,fit_prior=False,force_alpha=True)),\n",
        "              ('SVC',LinearSVC(penalty='l2',loss='squared_hinge',C=1,multi_class='ovr',\n",
        "                               max_iter=100,random_state=31))]\n",
        "# ASSIGNING THE PIPELINE WITH STEPS TF-IDF VECTORIZER,VOTING CLASSIFIER\n",
        "pipeline = Pipeline([\n",
        "    ('tfidf_vectorizer', TfidfVectorizer()),\n",
        "    ('voting_classifier', VotingClassifier(estimators=estimators,n_jobs=-1)),\n",
        "])\n",
        "# CREATING PARAMETER GRID FOR TF-IDF VECTORIZER AND VOTING CLASSIFIER\n",
        "parameters = {\n",
        "    'tfidf_vectorizer__max_df': (0.25, 0.5, 0.75),\n",
        "    'tfidf_vectorizer__ngram_range': [(1, 1), (1, 2), (1, 3)],\n",
        "    'voting_classifier__voting': ['hard','soft']\n",
        "}\n",
        "# CREATING AND FITTING THE GRIDSEARCHCV MODEL\n",
        "final_model = GridSearchCV(pipeline,param_grid=parameters,cv=10,n_jobs=-1,scoring='accuracy')\n",
        "final_model.fit(X_train, y_train)"
      ],
      "metadata": {
        "colab": {
          "base_uri": "https://localhost:8080/",
          "height": 206
        },
        "id": "ENxK3Glon1kD",
        "outputId": "5720b956-cbdb-43a0-9cea-80bccd08891a"
      },
      "execution_count": 64,
      "outputs": [
        {
          "output_type": "execute_result",
          "data": {
            "text/plain": [
              "GridSearchCV(cv=10,\n",
              "             estimator=Pipeline(steps=[('tfidf_vectorizer', TfidfVectorizer()),\n",
              "                                       ('voting_classifier',\n",
              "                                        VotingClassifier(estimators=[('Multinomial '\n",
              "                                                                      'Naive '\n",
              "                                                                      'Bayes',\n",
              "                                                                      MultinomialNB(alpha=1,\n",
              "                                                                                    fit_prior=False,\n",
              "                                                                                    force_alpha=True)),\n",
              "                                                                     ('SVC',\n",
              "                                                                      LinearSVC(C=1,\n",
              "                                                                                max_iter=100,\n",
              "                                                                                random_state=31))],\n",
              "                                                         n_jobs=-1))]),\n",
              "             n_jobs=-1,\n",
              "             param_grid={'tfidf_vectorizer__max_df': (0.25, 0.5, 0.75),\n",
              "                         'tfidf_vectorizer__ngram_range': [(1, 1), (1, 2),\n",
              "                                                           (1, 3)],\n",
              "                         'voting_classifier__voting': ['hard', 'soft']},\n",
              "             scoring='accuracy')"
            ],
            "text/html": [
              "<style>#sk-container-id-6 {color: black;background-color: white;}#sk-container-id-6 pre{padding: 0;}#sk-container-id-6 div.sk-toggleable {background-color: white;}#sk-container-id-6 label.sk-toggleable__label {cursor: pointer;display: block;width: 100%;margin-bottom: 0;padding: 0.3em;box-sizing: border-box;text-align: center;}#sk-container-id-6 label.sk-toggleable__label-arrow:before {content: \"▸\";float: left;margin-right: 0.25em;color: #696969;}#sk-container-id-6 label.sk-toggleable__label-arrow:hover:before {color: black;}#sk-container-id-6 div.sk-estimator:hover label.sk-toggleable__label-arrow:before {color: black;}#sk-container-id-6 div.sk-toggleable__content {max-height: 0;max-width: 0;overflow: hidden;text-align: left;background-color: #f0f8ff;}#sk-container-id-6 div.sk-toggleable__content pre {margin: 0.2em;color: black;border-radius: 0.25em;background-color: #f0f8ff;}#sk-container-id-6 input.sk-toggleable__control:checked~div.sk-toggleable__content {max-height: 200px;max-width: 100%;overflow: auto;}#sk-container-id-6 input.sk-toggleable__control:checked~label.sk-toggleable__label-arrow:before {content: \"▾\";}#sk-container-id-6 div.sk-estimator input.sk-toggleable__control:checked~label.sk-toggleable__label {background-color: #d4ebff;}#sk-container-id-6 div.sk-label input.sk-toggleable__control:checked~label.sk-toggleable__label {background-color: #d4ebff;}#sk-container-id-6 input.sk-hidden--visually {border: 0;clip: rect(1px 1px 1px 1px);clip: rect(1px, 1px, 1px, 1px);height: 1px;margin: -1px;overflow: hidden;padding: 0;position: absolute;width: 1px;}#sk-container-id-6 div.sk-estimator {font-family: monospace;background-color: #f0f8ff;border: 1px dotted black;border-radius: 0.25em;box-sizing: border-box;margin-bottom: 0.5em;}#sk-container-id-6 div.sk-estimator:hover {background-color: #d4ebff;}#sk-container-id-6 div.sk-parallel-item::after {content: \"\";width: 100%;border-bottom: 1px solid gray;flex-grow: 1;}#sk-container-id-6 div.sk-label:hover label.sk-toggleable__label {background-color: #d4ebff;}#sk-container-id-6 div.sk-serial::before {content: \"\";position: absolute;border-left: 1px solid gray;box-sizing: border-box;top: 0;bottom: 0;left: 50%;z-index: 0;}#sk-container-id-6 div.sk-serial {display: flex;flex-direction: column;align-items: center;background-color: white;padding-right: 0.2em;padding-left: 0.2em;position: relative;}#sk-container-id-6 div.sk-item {position: relative;z-index: 1;}#sk-container-id-6 div.sk-parallel {display: flex;align-items: stretch;justify-content: center;background-color: white;position: relative;}#sk-container-id-6 div.sk-item::before, #sk-container-id-6 div.sk-parallel-item::before {content: \"\";position: absolute;border-left: 1px solid gray;box-sizing: border-box;top: 0;bottom: 0;left: 50%;z-index: -1;}#sk-container-id-6 div.sk-parallel-item {display: flex;flex-direction: column;z-index: 1;position: relative;background-color: white;}#sk-container-id-6 div.sk-parallel-item:first-child::after {align-self: flex-end;width: 50%;}#sk-container-id-6 div.sk-parallel-item:last-child::after {align-self: flex-start;width: 50%;}#sk-container-id-6 div.sk-parallel-item:only-child::after {width: 0;}#sk-container-id-6 div.sk-dashed-wrapped {border: 1px dashed gray;margin: 0 0.4em 0.5em 0.4em;box-sizing: border-box;padding-bottom: 0.4em;background-color: white;}#sk-container-id-6 div.sk-label label {font-family: monospace;font-weight: bold;display: inline-block;line-height: 1.2em;}#sk-container-id-6 div.sk-label-container {text-align: center;}#sk-container-id-6 div.sk-container {/* jupyter's `normalize.less` sets `[hidden] { display: none; }` but bootstrap.min.css set `[hidden] { display: none !important; }` so we also need the `!important` here to be able to override the default hidden behavior on the sphinx rendered scikit-learn.org. See: https://github.com/scikit-learn/scikit-learn/issues/21755 */display: inline-block !important;position: relative;}#sk-container-id-6 div.sk-text-repr-fallback {display: none;}</style><div id=\"sk-container-id-6\" class=\"sk-top-container\"><div class=\"sk-text-repr-fallback\"><pre>GridSearchCV(cv=10,\n",
              "             estimator=Pipeline(steps=[(&#x27;tfidf_vectorizer&#x27;, TfidfVectorizer()),\n",
              "                                       (&#x27;voting_classifier&#x27;,\n",
              "                                        VotingClassifier(estimators=[(&#x27;Multinomial &#x27;\n",
              "                                                                      &#x27;Naive &#x27;\n",
              "                                                                      &#x27;Bayes&#x27;,\n",
              "                                                                      MultinomialNB(alpha=1,\n",
              "                                                                                    fit_prior=False,\n",
              "                                                                                    force_alpha=True)),\n",
              "                                                                     (&#x27;SVC&#x27;,\n",
              "                                                                      LinearSVC(C=1,\n",
              "                                                                                max_iter=100,\n",
              "                                                                                random_state=31))],\n",
              "                                                         n_jobs=-1))]),\n",
              "             n_jobs=-1,\n",
              "             param_grid={&#x27;tfidf_vectorizer__max_df&#x27;: (0.25, 0.5, 0.75),\n",
              "                         &#x27;tfidf_vectorizer__ngram_range&#x27;: [(1, 1), (1, 2),\n",
              "                                                           (1, 3)],\n",
              "                         &#x27;voting_classifier__voting&#x27;: [&#x27;hard&#x27;, &#x27;soft&#x27;]},\n",
              "             scoring=&#x27;accuracy&#x27;)</pre><b>In a Jupyter environment, please rerun this cell to show the HTML representation or trust the notebook. <br />On GitHub, the HTML representation is unable to render, please try loading this page with nbviewer.org.</b></div><div class=\"sk-container\" hidden><div class=\"sk-item sk-dashed-wrapped\"><div class=\"sk-label-container\"><div class=\"sk-label sk-toggleable\"><input class=\"sk-toggleable__control sk-hidden--visually\" id=\"sk-estimator-id-10\" type=\"checkbox\" ><label for=\"sk-estimator-id-10\" class=\"sk-toggleable__label sk-toggleable__label-arrow\">GridSearchCV</label><div class=\"sk-toggleable__content\"><pre>GridSearchCV(cv=10,\n",
              "             estimator=Pipeline(steps=[(&#x27;tfidf_vectorizer&#x27;, TfidfVectorizer()),\n",
              "                                       (&#x27;voting_classifier&#x27;,\n",
              "                                        VotingClassifier(estimators=[(&#x27;Multinomial &#x27;\n",
              "                                                                      &#x27;Naive &#x27;\n",
              "                                                                      &#x27;Bayes&#x27;,\n",
              "                                                                      MultinomialNB(alpha=1,\n",
              "                                                                                    fit_prior=False,\n",
              "                                                                                    force_alpha=True)),\n",
              "                                                                     (&#x27;SVC&#x27;,\n",
              "                                                                      LinearSVC(C=1,\n",
              "                                                                                max_iter=100,\n",
              "                                                                                random_state=31))],\n",
              "                                                         n_jobs=-1))]),\n",
              "             n_jobs=-1,\n",
              "             param_grid={&#x27;tfidf_vectorizer__max_df&#x27;: (0.25, 0.5, 0.75),\n",
              "                         &#x27;tfidf_vectorizer__ngram_range&#x27;: [(1, 1), (1, 2),\n",
              "                                                           (1, 3)],\n",
              "                         &#x27;voting_classifier__voting&#x27;: [&#x27;hard&#x27;, &#x27;soft&#x27;]},\n",
              "             scoring=&#x27;accuracy&#x27;)</pre></div></div></div><div class=\"sk-parallel\"><div class=\"sk-parallel-item\"><div class=\"sk-item\"><div class=\"sk-label-container\"><div class=\"sk-label sk-toggleable\"><input class=\"sk-toggleable__control sk-hidden--visually\" id=\"sk-estimator-id-11\" type=\"checkbox\" ><label for=\"sk-estimator-id-11\" class=\"sk-toggleable__label sk-toggleable__label-arrow\">estimator: Pipeline</label><div class=\"sk-toggleable__content\"><pre>Pipeline(steps=[(&#x27;tfidf_vectorizer&#x27;, TfidfVectorizer()),\n",
              "                (&#x27;voting_classifier&#x27;,\n",
              "                 VotingClassifier(estimators=[(&#x27;Multinomial Naive Bayes&#x27;,\n",
              "                                               MultinomialNB(alpha=1,\n",
              "                                                             fit_prior=False,\n",
              "                                                             force_alpha=True)),\n",
              "                                              (&#x27;SVC&#x27;,\n",
              "                                               LinearSVC(C=1, max_iter=100,\n",
              "                                                         random_state=31))],\n",
              "                                  n_jobs=-1))])</pre></div></div></div><div class=\"sk-serial\"><div class=\"sk-item\"><div class=\"sk-serial\"><div class=\"sk-item\"><div class=\"sk-estimator sk-toggleable\"><input class=\"sk-toggleable__control sk-hidden--visually\" id=\"sk-estimator-id-12\" type=\"checkbox\" ><label for=\"sk-estimator-id-12\" class=\"sk-toggleable__label sk-toggleable__label-arrow\">TfidfVectorizer</label><div class=\"sk-toggleable__content\"><pre>TfidfVectorizer()</pre></div></div></div><div class=\"sk-item sk-dashed-wrapped\"><div class=\"sk-label-container\"><div class=\"sk-label sk-toggleable\"><input class=\"sk-toggleable__control sk-hidden--visually\" id=\"sk-estimator-id-13\" type=\"checkbox\" ><label for=\"sk-estimator-id-13\" class=\"sk-toggleable__label sk-toggleable__label-arrow\">voting_classifier: VotingClassifier</label><div class=\"sk-toggleable__content\"><pre>VotingClassifier(estimators=[(&#x27;Multinomial Naive Bayes&#x27;,\n",
              "                              MultinomialNB(alpha=1, fit_prior=False,\n",
              "                                            force_alpha=True)),\n",
              "                             (&#x27;SVC&#x27;,\n",
              "                              LinearSVC(C=1, max_iter=100, random_state=31))],\n",
              "                 n_jobs=-1)</pre></div></div></div><div class=\"sk-parallel\"><div class=\"sk-parallel-item\"><div class=\"sk-item\"><div class=\"sk-label-container\"><div class=\"sk-label sk-toggleable\"><label>Multinomial Naive Bayes</label></div></div><div class=\"sk-serial\"><div class=\"sk-item\"><div class=\"sk-estimator sk-toggleable\"><input class=\"sk-toggleable__control sk-hidden--visually\" id=\"sk-estimator-id-14\" type=\"checkbox\" ><label for=\"sk-estimator-id-14\" class=\"sk-toggleable__label sk-toggleable__label-arrow\">MultinomialNB</label><div class=\"sk-toggleable__content\"><pre>MultinomialNB(alpha=1, fit_prior=False, force_alpha=True)</pre></div></div></div></div></div></div><div class=\"sk-parallel-item\"><div class=\"sk-item\"><div class=\"sk-label-container\"><div class=\"sk-label sk-toggleable\"><label>SVC</label></div></div><div class=\"sk-serial\"><div class=\"sk-item\"><div class=\"sk-estimator sk-toggleable\"><input class=\"sk-toggleable__control sk-hidden--visually\" id=\"sk-estimator-id-15\" type=\"checkbox\" ><label for=\"sk-estimator-id-15\" class=\"sk-toggleable__label sk-toggleable__label-arrow\">LinearSVC</label><div class=\"sk-toggleable__content\"><pre>LinearSVC(C=1, max_iter=100, random_state=31)</pre></div></div></div></div></div></div></div></div></div></div></div></div></div></div></div></div></div>"
            ]
          },
          "metadata": {},
          "execution_count": 64
        }
      ]
    },
    {
      "cell_type": "code",
      "source": [
        "# GETTING ACCURACY SCORE OF FINAL MODEL\n",
        "accuracy_score(y_test,final_model.predict(X_test))"
      ],
      "metadata": {
        "colab": {
          "base_uri": "https://localhost:8080/"
        },
        "id": "OAih9OLx0nwD",
        "outputId": "4196822e-08a3-44f1-8fb6-68b86574f182"
      },
      "execution_count": 67,
      "outputs": [
        {
          "output_type": "execute_result",
          "data": {
            "text/plain": [
              "0.8436426116838488"
            ]
          },
          "metadata": {},
          "execution_count": 67
        }
      ]
    }
  ]
}